{
 "cells": [
  {
   "cell_type": "code",
   "execution_count": 1,
   "metadata": {},
   "outputs": [],
   "source": [
    "import twitter\n",
    "import networkx as nx\n",
    "import matplotlib.pyplot as plt"
   ]
  },
  {
   "cell_type": "code",
   "execution_count": 2,
   "metadata": {},
   "outputs": [],
   "source": [
    "api = twitter.Api(consumer_key=\"vSsCY8ZdyOKqI2nBVpLElBKDD\",\n",
    "                  consumer_secret=\"xHWGtoCllCtc7lb5GkCAhJVU4q7TGN8TBtZZOEFqK1Rez8LQ1t\",\n",
    "                  access_token_key=\"806043476831809537-F2GoVNl8ngMXD0z0fdsvCSJXxolZhiY\",\n",
    "                  access_token_secret=\"aupIcZVfqSx9xyWYaa2Kyu7PJmfnpdah8G0Urgjwtz1U1\"                  \n",
    "                  )\n",
    "api.sleep_on_rate_limit = True"
   ]
  },
  {
   "cell_type": "code",
   "execution_count": 3,
   "metadata": {},
   "outputs": [],
   "source": [
    "def getUserFromName(name, api):\n",
    "    user_list = api.GetUsersSearch(term=name, page=1, count=1)\n",
    "    if user_list:\n",
    "        user = user_list[0]\n",
    "        if user.verified:\n",
    "            return user\n",
    "    return None"
   ]
  },
  {
   "cell_type": "code",
   "execution_count": 5,
   "metadata": {},
   "outputs": [
    {
     "data": {
      "text/plain": [
       "User(ID=2917808716, ScreenName=fundacionmessi)"
      ]
     },
     "execution_count": 5,
     "metadata": {},
     "output_type": "execute_result"
    }
   ],
   "source": [
    "getUserFromName('Lionel Messi', api)"
   ]
  },
  {
   "cell_type": "code",
   "execution_count": 4,
   "metadata": {},
   "outputs": [],
   "source": [
    "queries = [\"Narendra Modi\", \"donald trump\", \"Boris Johnson\"]"
   ]
  },
  {
   "cell_type": "code",
   "execution_count": 6,
   "metadata": {},
   "outputs": [],
   "source": [
    "V = []\n",
    "for i in range(len(queries)):\n",
    "    user = getUserFromName(queries[i], api)\n",
    "    if user:\n",
    "        row = [repr(user.id), user.name, user.screen_name] \n",
    "    V.append(row)"
   ]
  },
  {
   "cell_type": "code",
   "execution_count": 20,
   "metadata": {},
   "outputs": [
    {
     "data": {
      "image/png": "[encoded data removed]",
      "text/plain": [
       "<Figure size 432x288 with 1 Axes>"
      ]
     },
     "metadata": {},
     "output_type": "display_data"
    }
   ],
   "source": [
    "G = nx.petersen_graph()\n",
    "plt.subplot(121)\n",
    "nx.draw(G, with_labels=True)\n",
    "plt.show()"
   ]
  },
  {
   "cell_type": "code",
   "execution_count": 23,
   "metadata": {},
   "outputs": [
    {
     "data": {
      "text/plain": [
       "[{0, 1, 2, 3, 4, 5, 6, 7, 8, 9}]"
      ]
     },
     "execution_count": 23,
     "metadata": {},
     "output_type": "execute_result"
    }
   ],
   "source": [
    "list(nx.connected_components(G))"
   ]
  },
  {
   "cell_type": "code",
   "execution_count": 10,
   "metadata": {},
   "outputs": [
    {
     "data": {
      "text/plain": [
       "100"
      ]
     },
     "execution_count": 10,
     "metadata": {},
     "output_type": "execute_result"
    }
   ],
   "source": [
    "# api.GetSearch(raw_query=\"screen_name=fundacionmessi\")\n",
    "len(api.GetFriends(2917808716))"
   ]
  },
  {
   "cell_type": "code",
   "execution_count": 12,
   "metadata": {
    "collapsed": true
   },
   "outputs": [
    {
     "data": {
      "text/plain": [
       "[User(ID=95257207, ScreenName=PaolaRojas),\n",
       " User(ID=308699799, ScreenName=mariroussv),\n",
       " User(ID=1169466104, ScreenName=FundacionMGAS),\n",
       " User(ID=3072579299, ScreenName=acellfederacio),\n",
       " User(ID=74393294, ScreenName=JCFoundation),\n",
       " User(ID=179990537, ScreenName=lacapital),\n",
       " User(ID=186324385, ScreenName=PA7i7O),\n",
       " User(ID=366158266, ScreenName=JAchievement),\n",
       " User(ID=385958092, ScreenName=lichirosental),\n",
       " User(ID=107416993, ScreenName=matba_rofex),\n",
       " User(ID=2432016882, ScreenName=FundacionRos),\n",
       " User(ID=158110011, ScreenName=sorluciacaram),\n",
       " User(ID=155648349, ScreenName=FUNDACIONPUPI),\n",
       " User(ID=155959584, ScreenName=FundacioFCB),\n",
       " User(ID=726924583, ScreenName=TuliArellano9),\n",
       " User(ID=215939224, ScreenName=VHIR_),\n",
       " User(ID=1305983948, ScreenName=MSFTArgentina),\n",
       " User(ID=155492898, ScreenName=FundacionCruyff),\n",
       " User(ID=129993628, ScreenName=fedenrusso),\n",
       " User(ID=500110866, ScreenName=DamianDelorenzi),\n",
       " User(ID=71241787, ScreenName=fundlanacion),\n",
       " User(ID=162820573, ScreenName=danielevila),\n",
       " User(ID=518841814, ScreenName=FunGrupoAmerica),\n",
       " User(ID=164036989, ScreenName=CHANOTB),\n",
       " User(ID=505915529, ScreenName=MR11ok),\n",
       " User(ID=125340592, ScreenName=verobrunati),\n",
       " User(ID=582993253, ScreenName=enriquesacco),\n",
       " User(ID=3533062337, ScreenName=valu_smith1),\n",
       " User(ID=3206601610, ScreenName=AguaSeguraOK),\n",
       " User(ID=38651046, ScreenName=hospitalclinic),\n",
       " User(ID=244574217, ScreenName=LeoMessiFanClub),\n",
       " User(ID=1404026185, ScreenName=CachitoVigil),\n",
       " User(ID=4342851017, ScreenName=MartiGiusepponi),\n",
       " User(ID=353384223, ScreenName=VictoriaEscuder),\n",
       " User(ID=63796828, ScreenName=verified),\n",
       " User(ID=23096286, ScreenName=UNICEFCanada),\n",
       " User(ID=58309829, ScreenName=Nickelodeon),\n",
       " User(ID=60083391, ScreenName=marianadahbar),\n",
       " User(ID=152325528, ScreenName=C5N),\n",
       " User(ID=163088565, ScreenName=omoscariello),\n",
       " User(ID=492590970, ScreenName=jeandecotte),\n",
       " User(ID=26759984, ScreenName=GuillemBalague),\n",
       " User(ID=1161229104, ScreenName=mundoleodeportv),\n",
       " User(ID=154873006, ScreenName=P_JuanGabriel),\n",
       " User(ID=171619574, ScreenName=Yojuanjunco),\n",
       " User(ID=915745446, ScreenName=AmapolaOkey),\n",
       " User(ID=58196894, ScreenName=carolinalosada),\n",
       " User(ID=242026058, ScreenName=lichuzeno),\n",
       " User(ID=159598690, ScreenName=diegoreinholdok),\n",
       " User(ID=191725777, ScreenName=sole_pastorutti),\n",
       " User(ID=179975046, ScreenName=analiabocassi),\n",
       " User(ID=188069571, ScreenName=CityCenterRos),\n",
       " User(ID=123661456, ScreenName=guillecoria),\n",
       " User(ID=45186008, ScreenName=OpyMorales),\n",
       " User(ID=109135635, ScreenName=USAmbassadorARG),\n",
       " User(ID=143843372, ScreenName=giraltpablo),\n",
       " User(ID=861783313, ScreenName=InstitutoNJr),\n",
       " User(ID=516706375, ScreenName=UnicefSV),\n",
       " User(ID=186730666, ScreenName=sercompany),\n",
       " User(ID=356492416, ScreenName=RosSolidaria),\n",
       " User(ID=152414719, ScreenName=victortuchi),\n",
       " User(ID=171666375, ScreenName=lhricossa),\n",
       " User(ID=165493803, ScreenName=recondogaston),\n",
       " User(ID=139160485, ScreenName=MartinSouto),\n",
       " User(ID=732111218, ScreenName=ManosenAccion),\n",
       " User(ID=398971916, ScreenName=pachu_penia),\n",
       " User(ID=254274083, ScreenName=MarcAnthony),\n",
       " User(ID=35877056, ScreenName=AxelOficial),\n",
       " User(ID=923419484, ScreenName=NoeliaGitanos),\n",
       " User(ID=299956310, ScreenName=charlydetalpalo),\n",
       " User(ID=578310790, ScreenName=GitanosOLE_CyN),\n",
       " User(ID=55359954, ScreenName=AP9_),\n",
       " User(ID=146953504, ScreenName=ClauVillapun),\n",
       " User(ID=77694285, ScreenName=carlosvives),\n",
       " User(ID=124779370, ScreenName=rialjorge),\n",
       " User(ID=3111678539, ScreenName=Marin1966Marin),\n",
       " User(ID=272089245, ScreenName=GonzalitoToroOk),\n",
       " User(ID=170908458, ScreenName=AyelenStepnik),\n",
       " User(ID=288535956, ScreenName=PaulaFatic),\n",
       " User(ID=103921123, ScreenName=JEYMAMMON),\n",
       " User(ID=1108922298, ScreenName=_MatiasMessi),\n",
       " User(ID=186258608, ScreenName=ginotubaro),\n",
       " User(ID=211918976, ScreenName=UNICEFenEspanol),\n",
       " User(ID=117251043, ScreenName=germanpaoloski),\n",
       " User(ID=130952346, ScreenName=FernandezCoco),\n",
       " User(ID=128958788, ScreenName=vazqueznico),\n",
       " User(ID=789856765, ScreenName=cuervotinelli),\n",
       " User(ID=312860253, ScreenName=Rosentalinv),\n",
       " User(ID=172089564, ScreenName=antoniobirabent),\n",
       " User(ID=314702633, ScreenName=BAR_Rosario),\n",
       " User(ID=2579301241, ScreenName=simball_arg),\n",
       " User(ID=155265007, ScreenName=ChrisSanchook),\n",
       " User(ID=63220697, ScreenName=HospitalAustral),\n",
       " User(ID=333573183, ScreenName=Julyweich),\n",
       " User(ID=901709474, ScreenName=vallhebron),\n",
       " User(ID=179879333, ScreenName=SOCatalunya),\n",
       " User(ID=2881252791, ScreenName=HospGarrahan),\n",
       " User(ID=192728611, ScreenName=UNICEFargentina),\n",
       " User(ID=180889617, ScreenName=FNDFLEXER),\n",
       " User(ID=1058376110, ScreenName=TeamMessi)]"
      ]
     },
     "execution_count": 12,
     "metadata": {},
     "output_type": "execute_result"
    }
   ],
   "source": [
    "api.GetFriends(2917808716)"
   ]
  }
 ],
 "metadata": {
  "kernelspec": {
   "display_name": "Python 3.7.4 64-bit ('ml': conda)",
   "language": "python",
   "name": "python37464bitmlconda7fa6c6a5e21e48fa992d614fd6726ac8"
  },
  "language_info": {
   "codemirror_mode": {
    "name": "ipython",
    "version": 3
   },
   "file_extension": ".py",
   "mimetype": "text/x-python",
   "name": "python",
   "nbconvert_exporter": "python",
   "pygments_lexer": "ipython3",
   "version": "3.7.8"
  },
  "varInspector": {
   "cols": {
    "lenName": 16,
    "lenType": 16,
    "lenVar": 40
   },
   "kernels_config": {
    "python": {
     "delete_cmd_postfix": "",
     "delete_cmd_prefix": "del ",
     "library": "var_list.py",
     "varRefreshCmd": "print(var_dic_list())"
    },
    "r": {
     "delete_cmd_postfix": ") ",
     "delete_cmd_prefix": "rm(",
     "library": "var_list.r",
     "varRefreshCmd": "cat(var_dic_list()) "
    }
   },
   "types_to_exclude": [
    "module",
    "function",
    "builtin_function_or_method",
    "instance",
    "_Feature"
   ],
   "window_display": false
  }
 },
 "nbformat": 4,
 "nbformat_minor": 4
}
