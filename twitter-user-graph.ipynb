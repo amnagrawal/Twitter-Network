{
 "cells": [
  {
   "cell_type": "code",
   "execution_count": 138,
   "metadata": {},
   "outputs": [],
   "source": [
    "import twitter\n",
    "import networkx as nx\n",
    "import matplotlib.pyplot as plt\n",
    "import pickle\n",
    "import collections\n",
    "from requests_oauthlib import OAuth1Session"
   ]
  },
  {
   "cell_type": "code",
   "execution_count": 139,
   "outputs": [],
   "source": [
    "# consumer_key=\"vSsCY8ZdyOKqI2nBVpLElBKDD\"\n",
    "# consumer_secret=\"xHWGtoCllCtc7lb5GkCAhJVU4q7TGN8TBtZZOEFqK1Rez8LQ1t\"\n",
    "# def get_resource_token():\n",
    "#     #create an object of OAuth1Session\n",
    "#     request_token = OAuth1Session(client_key=consumer_key, client_secret=consumer_secret)\n",
    "#     # twitter endpoint to get request token\n",
    "#     url = 'https://api.twitter.com/oauth/request_token'\n",
    "#     # get request_token_key, request_token_secret and other details\n",
    "#     data = request_token.get(url)\n",
    "#     # split the string to get relevant data\n",
    "#     data_token = str.split(data.text, '&')\n",
    "#     ro_key = str.split(data_token[0], '=')\n",
    "#     ro_secret = str.split(data_token[1], '=')\n",
    "#     resource_owner_key = ro_key[1]\n",
    "#     resource_owner_secret = ro_secret[1]\n",
    "#     resource = [resource_owner_key, resource_owner_secret]\n",
    "#     return resource\n",
    "#\n",
    "# resource_token = get_resource_token()"
   ],
   "metadata": {
    "collapsed": false,
    "pycharm": {
     "name": "#%%\n"
    }
   }
  },
  {
   "cell_type": "code",
   "execution_count": 140,
   "metadata": {},
   "outputs": [],
   "source": [
    "api = twitter.Api(consumer_key=\"vSsCY8ZdyOKqI2nBVpLElBKDD\",\n",
    "                  consumer_secret=\"xHWGtoCllCtc7lb5GkCAhJVU4q7TGN8TBtZZOEFqK1Rez8LQ1t\",\n",
    "                  access_token_key=\"806043476831809537-F2GoVNl8ngMXD0z0fdsvCSJXxolZhiY\",\n",
    "                  access_token_secret=\"aupIcZVfqSx9xyWYaa2Kyu7PJmfnpdah8G0Urgjwtz1U1\"\n",
    "                  )\n",
    "# api = twitter.Api(consumer_key=consumer_key,\n",
    "#                   consumer_secret=consumer_secret,\n",
    "#                   access_token_key=resource_token[0],\n",
    "#                   access_token_secret=resource_token[1])\n",
    "api.sleep_on_rate_limit = True"
   ]
  },
  {
   "cell_type": "code",
   "execution_count": 172,
   "metadata": {},
   "outputs": [],
   "source": [
    "def getUserFromName(name, api):\n",
    "    user_list = api.GetUsersSearch(term=name, page=1, count=1)\n",
    "    if user_list:\n",
    "        user = user_list[0]\n",
    "        if user.verified and (not user.protected):\n",
    "            return user\n",
    "    return None"
   ]
  },
  {
   "cell_type": "code",
   "execution_count": 173,
   "metadata": {},
   "outputs": [],
   "source": [
    "queries = []\n",
    "# Uncomment these lines to read the list of names\n",
    "with open('./names.csv', 'r') as f:\n",
    "    queries = f.read().split('\\n')[:-1]"
   ]
  },
  {
   "cell_type": "code",
   "execution_count": 143,
   "metadata": {},
   "outputs": [],
   "source": [
    "# dummy_query_list\n",
    "# queries = [\"Luis Suarez\", \"Sergio Busquets\", \"Iker Casillas\", \"Malena Ortiz Cruz\", \"Diego Lopez\",\n",
    "#            \"Isabel Garzo\", \"Marc ter Stegan\", \"Samuel Umtiti\", \"Andres Iniesta\", \"Arturo Vidal\",\n",
    "#            \"Jordi Alba\", \"Sergi Roberto\", \"Rafa Nadal\", \"Roger Federer\", \"Gerard Pique\",\n",
    "#            \"Antoine Griezmann\", \"marie portolano\"]"
   ]
  },
  {
   "cell_type": "code",
   "execution_count": 174,
   "metadata": {
    "pycharm": {
     "name": "#%%\n"
    }
   },
   "outputs": [
    {
     "name": "stdout",
     "output_type": "stream",
     "text": [
      "1 2 3 4 5 6 7 9 11 12 14 15 16 17 18 19 20 21 22 23 24 25 26 27 28 29 30 31 33 35 36 37 38 39 40 41 43 44 45 46 47 48 49 51 52 53 55 56 57 58 59 60 61 62 63 64 65 66 67 68 69 70 71 72 73 74 75 77 78 79 80 81 82 83 84 85 86 89 91 94 95 96 97 98 99 100 102 103 104 105 106 107 108 109 110 111 112 113 114 115 116 117 118 119 120 121 122 123 124 125 126 127 128 129 131 132 133 134 135 136 137 138 139 140 141 142 147 148 149 150 154 158 159 160 161 163 164 167 168 170 172 173 174 176 178 181 182 184 185 186 188 189 190 191 193 196 197 198 199 200 201 202 204 206 208 209 210 213 215 216 219 220 222 223 224 225 226 228 229 230 232 233 234 235 239 240 241 242 246 249 250 251 252 254 255 256 258 259 260 261 265 266 268 269 270 271 274 275 276 277 278 280 281 282 285 286 289 290 291 293 294 295 296 298 299 300 301 302 305 306 308 311 315 316 317 318 319 321 323 324 327 329 330 331 332 333 334 335 336 337 338 339 341 342 344 345 346 "
     ]
    }
   ],
   "source": [
    "# For now saving all kinds of graphs... may need only one later\n",
    "g = nx.Graph()\n",
    "dg = nx.DiGraph()\n",
    "id_to_name = {}\n",
    "for i in range(len(queries)):\n",
    "    user = getUserFromName(queries[i], api)\n",
    "\n",
    "    if user:\n",
    "        # row = [repr(user.id), user.name, user.screen_name]\n",
    "        print(f'{i+1}', end=\" \")\n",
    "        id_to_name[user.id] = user.name\n",
    "        g.add_node(user.name, id=repr(user.id), screen_name=user.screen_name)\n",
    "        dg.add_node(user.name, id=repr(user.id), screen_name=user.screen_name)\n",
    "        queries[i] = user.name"
   ]
  },
  {
   "cell_type": "code",
   "execution_count": 176,
   "outputs": [
    {
     "name": "stdout",
     "output_type": "stream",
     "text": [
      "39 41 51 14 14 1 21 Skipping michael thomas wr\n",
      "18 Skipping clyde edwards helaire\n",
      "13 23 Skipping julio jones\n",
      "32 1 60 63 25 35 2 36 47 8 50 18 9 27 18 20 30 50 Skipping dj moore wr\n",
      "42 Skipping amari cooper\n",
      "61 37 49 18 15 24 10 Skipping david johnson rb\n",
      "45 17 28 25 39 14 13 Skipping leveon bell\n",
      "8 45 2 Skipping darren waller\n",
      "16 15 49 29 18 15 11 20 38 11 14 15 16 13 3 23 10 23 11 23 10 Skipping jordan howard\n",
      "7 20 13 4 22 16 26 8 17 12 Skipping matthew stafford\n",
      "Skipping deebo samuel\n",
      "9 Skipping antonio gibson\n",
      "6 Skipping jamison crowder\n",
      "Skipping john brown\n",
      "12 19 24 24 9 9 6 Skipping ronald jones ii\n",
      "0 10 8 21 14 26 20 6 10 4 16 2 15 7 25 6 29 6 13 3 28 23 47 10 32 6 16 39 Skipping mike williams wr\n",
      "2 13 5 12 16 79 36 12 9 8 11 4 Skipping jack doyle\n",
      "Skipping san francisco defense\n",
      "Skipping jalen reagor\n",
      "Skipping pittsburgh defense\n",
      "13 9 5 7 Skipping baltimore defense\n",
      "Skipping brandon aiyuk\n",
      "Skipping tony pollard\n",
      "24 Skipping justin jefferson\n",
      "Skipping philip rivers\n",
      "Skipping buffalo defense\n",
      "6 49 31 8 Skipping new england defense\n",
      "10 18 Skipping new orleans defense\n",
      "Skipping damien harris rb\n",
      "2 0 Skipping michael pittman\n",
      "13 Skipping chicago defense\n",
      "15 8 31 Skipping justin jackson rb\n",
      "4 Skipping kansas city defense\n",
      "9 Skipping greg zuerlein\n",
      "Skipping sam darnold\n",
      "14 34 Skipping minnesota defense\n",
      "7 15 7 Skipping los angeles defense\n",
      "3 24 21 9 Skipping bryce love rb\n",
      "32 Skipping adrian peterson min\n",
      "Skipping philadelphia defense\n",
      "13 39 11 8 8 16 6 Skipping denver defense\n",
      "0 Skipping san diego defense\n",
      "8 Skipping ryquell armstead\n",
      "13 15 34 Skipping indianapolis defense\n",
      "Skipping zane gonzalez\n",
      "5 Skipping seattle defense\n",
      "0 0 Skipping kaimi fairbairn\n",
      "Skipping tampa bay defense\n",
      "24 13 Skipping green bay defense\n",
      "20 12 41 0 14 Skipping dallas defense\n",
      "15 5 6 Skipping dan bailey\n",
      "6 8 19 18 Skipping michael badgley\n",
      "Skipping cleveland defense\n",
      "Skipping keshawn vaughn\n",
      "5 14 18 30 Skipping trequan smith\n",
      "Skipping chris boswell\n",
      "Skipping chris conley\n",
      "31 Skipping ryan fitzpatrick\n",
      "Skipping marquez valdesscantling\n",
      "12 23 9 15 Skipping new york jets defense\n",
      "5 0 7 Skipping van jefferson\n",
      "1 10 4 16 Skipping jj arcega whiteside\n",
      "Skipping joey slye\n",
      "Skipping devine ozigbo\n",
      "8 9 Skipping houston defense\n",
      "10 22 16 7 Skipping washington defense\n",
      "Skipping austin seibert\n",
      "13 8 17 53 8 Skipping jacksonville defense\n",
      "8 1 12 Skipping matt gay\n",
      "Skipping stephen gostkowski\n",
      "0 17 Skipping detroit defense\n",
      "Skipping atlanta defense\n",
      "16 15 15 Skipping vance mcdonald\n",
      "0 5 0 10 Skipping olabisi johnson\n",
      "4 8 3 39 4 Skipping arizona defense\n",
      "Skipping cameron brate\n",
      "8 24 Skipping dan arnold\n",
      "5 Skipping nelson agholor\n",
      "Skipping cj uzomah\n",
      "3 Skipping logan thomas\n",
      "Skipping lamical perine\n",
      "Skipping justin herbert\n",
      "19 12 28 54 0 Skipping jordan akins\n",
      "15 Skipping deejay dallas\n",
      "14 0 Skipping las vegas defense\n",
      "Skipping sam sloman\n",
      "12 Skipping chase mclaughlin\n",
      "2 9 8 4 3 29 74 28 5 15 6 Skipping justin rohrwasser\n",
      "7 12 Skipping aldrick rosas\n",
      "24 11 7 Skipping miami defense\n"
     ]
    }
   ],
   "source": [
    "for query_name in queries:\n",
    "\n",
    "    if not g.has_node(query_name):\n",
    "        print(f\"Skipping {query_name}\")\n",
    "        continue\n",
    "\n",
    "    query_id = g.nodes[query_name]['id']\n",
    "    friendIDs = api.GetFriendIDs(query_id)\n",
    "    connection_count = 0\n",
    "    for friendID in friendIDs:\n",
    "        if friendID in id_to_name.keys():\n",
    "\n",
    "            connection_count += 1\n",
    "            friend_name = id_to_name[friendID]\n",
    "            # print(f'{query_name} is following {friend_name}')\n",
    "            dg.add_edge(query_name, friend_name)\n",
    "\n",
    "            # 2 nodes in an undirected graph are connected if they both follow each other\n",
    "            if dg.has_edge(friend_name, query_name):\n",
    "                g.add_edge(friend_name, query_name)\n",
    "\n",
    "    print(f'{connection_count}', end = \" \")"
   ],
   "metadata": {
    "collapsed": false,
    "pycharm": {
     "name": "#%%\n"
    }
   }
  },
  {
   "cell_type": "code",
   "execution_count": 177,
   "metadata": {},
   "outputs": [
    {
     "name": "stderr",
     "output_type": "stream",
     "text": [
      "/home/aman/anaconda3/envs/ml/lib/python3.7/site-packages/matplotlib/backends/backend_agg.py:214: RuntimeWarning: Glyph 57614 missing from current font.\n",
      "  font.set_text(s, 0.0, flags=flags)\n",
      "/home/aman/anaconda3/envs/ml/lib/python3.7/site-packages/matplotlib/backends/backend_agg.py:214: RuntimeWarning: Glyph 57661 missing from current font.\n",
      "  font.set_text(s, 0.0, flags=flags)\n",
      "/home/aman/anaconda3/envs/ml/lib/python3.7/site-packages/matplotlib/backends/backend_agg.py:214: RuntimeWarning: Glyph 57361 missing from current font.\n",
      "  font.set_text(s, 0.0, flags=flags)\n",
      "/home/aman/anaconda3/envs/ml/lib/python3.7/site-packages/matplotlib/backends/backend_agg.py:183: RuntimeWarning: Glyph 57614 missing from current font.\n",
      "  font.set_text(s, 0, flags=flags)\n",
      "/home/aman/anaconda3/envs/ml/lib/python3.7/site-packages/matplotlib/backends/backend_agg.py:183: RuntimeWarning: Glyph 57661 missing from current font.\n",
      "  font.set_text(s, 0, flags=flags)\n",
      "/home/aman/anaconda3/envs/ml/lib/python3.7/site-packages/matplotlib/backends/backend_agg.py:183: RuntimeWarning: Glyph 57361 missing from current font.\n",
      "  font.set_text(s, 0, flags=flags)\n",
      "/home/aman/anaconda3/envs/ml/lib/python3.7/site-packages/matplotlib/backends/backend_agg.py:214: RuntimeWarning: Glyph 8419 missing from current font.\n",
      "  font.set_text(s, 0.0, flags=flags)\n",
      "/home/aman/anaconda3/envs/ml/lib/python3.7/site-packages/matplotlib/backends/backend_agg.py:183: RuntimeWarning: Glyph 8419 missing from current font.\n",
      "  font.set_text(s, 0, flags=flags)\n",
      "/home/aman/anaconda3/envs/ml/lib/python3.7/site-packages/matplotlib/backends/backend_agg.py:214: RuntimeWarning: Glyph 10060 missing from current font.\n",
      "  font.set_text(s, 0.0, flags=flags)\n",
      "/home/aman/anaconda3/envs/ml/lib/python3.7/site-packages/matplotlib/backends/backend_agg.py:183: RuntimeWarning: Glyph 10060 missing from current font.\n",
      "  font.set_text(s, 0, flags=flags)\n",
      "/home/aman/anaconda3/envs/ml/lib/python3.7/site-packages/matplotlib/backends/backend_agg.py:214: RuntimeWarning: Glyph 128142 missing from current font.\n",
      "  font.set_text(s, 0.0, flags=flags)\n",
      "/home/aman/anaconda3/envs/ml/lib/python3.7/site-packages/matplotlib/backends/backend_agg.py:183: RuntimeWarning: Glyph 128142 missing from current font.\n",
      "  font.set_text(s, 0, flags=flags)\n",
      "/home/aman/anaconda3/envs/ml/lib/python3.7/site-packages/matplotlib/backends/backend_agg.py:214: RuntimeWarning: Glyph 128075 missing from current font.\n",
      "  font.set_text(s, 0.0, flags=flags)\n",
      "/home/aman/anaconda3/envs/ml/lib/python3.7/site-packages/matplotlib/backends/backend_agg.py:214: RuntimeWarning: Glyph 127998 missing from current font.\n",
      "  font.set_text(s, 0.0, flags=flags)\n",
      "/home/aman/anaconda3/envs/ml/lib/python3.7/site-packages/matplotlib/backends/backend_agg.py:183: RuntimeWarning: Glyph 128075 missing from current font.\n",
      "  font.set_text(s, 0, flags=flags)\n",
      "/home/aman/anaconda3/envs/ml/lib/python3.7/site-packages/matplotlib/backends/backend_agg.py:183: RuntimeWarning: Glyph 127998 missing from current font.\n",
      "  font.set_text(s, 0, flags=flags)\n",
      "/home/aman/anaconda3/envs/ml/lib/python3.7/site-packages/matplotlib/backends/backend_agg.py:214: RuntimeWarning: Glyph 127462 missing from current font.\n",
      "  font.set_text(s, 0.0, flags=flags)\n",
      "/home/aman/anaconda3/envs/ml/lib/python3.7/site-packages/matplotlib/backends/backend_agg.py:214: RuntimeWarning: Glyph 127480 missing from current font.\n",
      "  font.set_text(s, 0.0, flags=flags)\n",
      "/home/aman/anaconda3/envs/ml/lib/python3.7/site-packages/matplotlib/backends/backend_agg.py:183: RuntimeWarning: Glyph 127462 missing from current font.\n",
      "  font.set_text(s, 0, flags=flags)\n",
      "/home/aman/anaconda3/envs/ml/lib/python3.7/site-packages/matplotlib/backends/backend_agg.py:183: RuntimeWarning: Glyph 127480 missing from current font.\n",
      "  font.set_text(s, 0, flags=flags)\n",
      "/home/aman/anaconda3/envs/ml/lib/python3.7/site-packages/matplotlib/backends/backend_agg.py:214: RuntimeWarning: Glyph 129330 missing from current font.\n",
      "  font.set_text(s, 0.0, flags=flags)\n",
      "/home/aman/anaconda3/envs/ml/lib/python3.7/site-packages/matplotlib/backends/backend_agg.py:214: RuntimeWarning: Glyph 127997 missing from current font.\n",
      "  font.set_text(s, 0.0, flags=flags)\n",
      "/home/aman/anaconda3/envs/ml/lib/python3.7/site-packages/matplotlib/backends/backend_agg.py:183: RuntimeWarning: Glyph 129330 missing from current font.\n",
      "  font.set_text(s, 0, flags=flags)\n",
      "/home/aman/anaconda3/envs/ml/lib/python3.7/site-packages/matplotlib/backends/backend_agg.py:183: RuntimeWarning: Glyph 127997 missing from current font.\n",
      "  font.set_text(s, 0, flags=flags)\n"
     ]
    }
   ],
   "source": [
    "%matplotlib qt\n",
    "plt.plot()\n",
    "nx.draw(dg, with_labels=True)\n",
    "plt.show()"
   ]
  },
  {
   "cell_type": "code",
   "execution_count": 178,
   "metadata": {},
   "outputs": [
    {
     "data": {
      "text/plain": "[{'$.',\n  '.',\n  '7⃣ Leonard Fournette',\n  'AJ Brown',\n  'AJ “The Sauce” Dillon',\n  'Aaron Jones',\n  'Aaron Rodgers',\n  'Adam Humphries',\n  'Adam Thielen',\n  'Aj Green',\n  'Alexander Mattison',\n  'Allen Lazard',\n  'Allen Robinson II',\n  'Alshon Jeffery',\n  'Alvin Kamara',\n  'Anthony Miller',\n  'Auden Tate',\n  'Austin Ekeler',\n  'Austin M Hooper',\n  'Baker Mayfield',\n  'BigBen7.com',\n  'Blake Jarwin',\n  'Booger',\n  'Boston Scott',\n  'Brandin Cooks',\n  'Brandon McManus',\n  'Breshad Perriman',\n  'Brett Maher',\n  'Brian Hill',\n  'Bryan Edwards',\n  'CALVIN RIDLEY',\n  'Cam akers',\n  'Cameron 1 Newton',\n  'Carlos Hyde',\n  'Carson Wentz',\n  'CeeDee Lamb',\n  'Chase Claypool',\n  'Chase Edmonds',\n  'Chief David Njoku',\n  'Chris Carson',\n  'Chris Godwin',\n  'Chris Thompson',\n  'Christian Kirk',\n  'Christian McCaffrey',\n  'Christopher Herndon IV',\n  'Cole Beasley',\n  'Cooper Kupp',\n  'Corey Davis',\n  'Courtland Sutton♠️',\n  'Curtis Samuel',\n  'DARWIN THOMPSON',\n  'DIGGS',\n  'DJ Chark',\n  'DK Metcalf',\n  'DaeSean Hamilton',\n  'Dak Prescott',\n  'Dallas Goedert',\n  'Dalvin Cook',\n  'Daniel Carlson',\n  'Danny Amendola',\n  'Dare Ogunbowale',\n  'Darius Slayton',\n  'Darrell Henderson Jr',\n  'Darrynton Evans',\n  'Davante Adams',\n  'David Montgomery',\n  'Dawson Knox',\n  'DeAndre Washington',\n  'DeVante Parker',\n  'Deandre Hopkins',\n  'Dede Westbrook',\n  'Demarcus Robinson',\n  'Derek Carr',\n  'Desean Jackson',\n  'Devin Asiasi “2X” 🤲🏽',\n  'Devin Duvernay',\n  'Devin Singletary',\n  'Devonta Freeman',\n  'Dion Lewis',\n  'Diontae Johnson',\n  'Drew Brees',\n  'Drew Lock',\n  'Dustin Hopkins',\n  'Dwayne Haskins, Jr',\n  'Emmanuel Sanders',\n  'Eno Benjamin',\n  'Eric Ebron',\n  'Evan Engram',\n  'Ezekiel Elliott',\n  'Flash',\n  'Frank Gore',\n  'Gardner Minshew',\n  'George Kittle',\n  'Gerald Everett',\n  'Giovani Bernard',\n  'Golden Tate',\n  'Greg Olsen',\n  'Greg Ward, Jr.',\n  'Gus Edwards',\n  'HJR III™💎',\n  'Harrison Butker',\n  'Hayden Hurst',\n  'Hollywood Brown',\n  'Hunter Henry',\n  'Hunter Renfrow',\n  'IG MikeDavisRB',\n  'Irvin Smith Jr.',\n  'Ito Smith',\n  'Jace',\n  'Jake Elliott',\n  'Jakeem Grant',\n  'Jakobi Meyers',\n  'Jalen Richard',\n  'Jamaal Williams',\n  'James Conner',\n  'James Washington',\n  'James White',\n  'Jared Cook',\n  'Jared Goff',\n  'Jarvis Juice Landry',\n  'Jason Myers',\n  'Jaylen Samuels',\n  'Jd Mckissic',\n  'Jerick Mckinnon',\n  'Jerry Jeudy⁴',\n  'Jimmy Garoppolo',\n  'Jimmy Graham',\n  'Jk dobbins',\n  'Joey Burrow',\n  'Jonathan Taylor',\n  'Jonnu Smith',\n  'Josh Allen',\n  'Josh Jacobs',\n  'Josh Lambo',\n  'Joshua Kelley',\n  'JuJu Smith-Schuster',\n  'Julian Edelman',\n  'Justice Hill',\n  'Justin Tucker',\n  'KJ HAMLER',\n  'Kareemhunt3⃣',\n  'Keal',\n  'Keenan Allen',\n  'Keke Coutee',\n  'Kendrick Bourne Poly',\n  'Kenny Golladay',\n  'Kenny Stills',\n  'Kenyan Drake™',\n  'Kerryon Johnson',\n  'King me',\n  'Kyle Rudolph',\n  'Kyler Murray',\n  'Lamar Jackson',\n  'Larry Fitzgerald',\n  'Latavius Murray',\n  'Laviska Shenault Jr',\n  'LeSean Shady Mccoy',\n  'Lynn Bowden Jr',\n  'Malcolm Brown',\n  'Mark Andrews 8⃣9️⃣',\n  'Mark Ingram II',\n  'Marlon Mack',\n  'Marvin Jones Jr',\n  'Mason Crosby',\n  'Matt Breida',\n  'Matt Prater',\n  'Matt Ryan',\n  'Mecole Hardman Jr.',\n  'Michael Gallup',\n  'Mike Boone',\n  'Mike Evans',\n  'Mike Gesicki',\n  'Miles Boykin',\n  'Miles Sanders',\n  'Mitchell Trubisky',\n  'Mohamed Sanu Sr.',\n  'Mr SNELL YA LATER👋🏾',\n  'Nick Boyle',\n  'Nick Chubb',\n  'Nick Foles',\n  'Noah Fant',\n  'Nyheim Hines',\n  'OJ Howard ™',\n  'Odell Beckham Jr',\n  'Parris Campbell',\n  'Patrick Laird',\n  'Patrick Mahomes II',\n  'Peyton Barber',\n  'Phillip Dorsett',\n  'Phillip Lindsay',\n  'Preston Williams',\n  'Raheem Mostert',\n  'Randall Cobb',\n  'Randy Bullock',\n  'Rashaad Penny',\n  'Rex Burkhead',\n  'Rob Gronkowski',\n  'Robbie Gould',\n  'Robby Anderson',\n  'Robert Woods',\n  'Rodrigo Blankenship',\n  'Royce Freeman',\n  'Russell Gage Jr.',\n  'Russell Wilson',\n  'Ryan Succop',\n  'Ryan Tannehill',\n  'SWIFT7️⃣',\n  'Saquon Barkley',\n  'Sony Michel',\n  'Sterling  Shepard',\n  'TJ Hockenson',\n  'TY Hilton',\n  'Tarik Cohen',\n  'Ted Ginn Jr',\n  'Teddy Bridgewater',\n  'Tee Higgins⁵',\n  'Terry McLaurin',\n  'Tevin Coleman',\n  'Todd Gurley II',\n  'Tom Brady',\n  'Travis Kelce',\n  'Trey Burton',\n  'Ty Hill',\n  'Tyler Bass',\n  'Tyler Boyd',\n  'Tyler Eifert',\n  'Tyler Higbee',\n  'Tyler Lockett',\n  'Tyrod Taylor',\n  'Wayne Gallman II',\n  'Wil Lutz',\n  'Will Dissly',\n  'Will Fuller V',\n  'Willie Snead IV',\n  'Younghoe Koo',\n  'Zach Ertz',\n  'Zachary Pascal',\n  'Zack Moss ❌',\n  'cordarrelle patterson',\n  'darrel williams',\n  'kirkcousins8',\n  '\\ue10eDerrick Henry \\ue13d\\ue011'},\n {'Daniel Jones'},\n {'Ian Thomas'},\n {'Scott DesJarlais'},\n {'Denzel Mims'},\n {'John Ross'},\n {'James Robinson'},\n {'josh reynolds'},\n {'Andy Isabella'},\n {'Antonio Gandy-Golden'},\n {'Tua. T 🇦🇸'},\n {'Darren Fells'},\n {'Wayne County'},\n {'David Moore'},\n {'Scott Miller'},\n {'Steven Hauschka'}]"
     },
     "execution_count": 178,
     "metadata": {},
     "output_type": "execute_result"
    }
   ],
   "source": [
    "list(nx.connected_components(g))"
   ]
  },
  {
   "cell_type": "code",
   "execution_count": 179,
   "metadata": {},
   "outputs": [
    {
     "data": {
      "text/plain": "100"
     },
     "execution_count": 179,
     "metadata": {},
     "output_type": "execute_result"
    }
   ],
   "source": [
    "# api.GetSearch(raw_query=\"screen_name=fundacionmessi\")\n",
    "# len(api.GetFriends(2917808716))"
   ]
  },
  {
   "cell_type": "code",
   "execution_count": 36,
   "metadata": {
    "collapsed": true
   },
   "outputs": [
    {
     "data": {
      "text/plain": [
       "95257207"
      ]
     },
     "execution_count": 36,
     "metadata": {},
     "output_type": "execute_result"
    }
   ],
   "source": [
    "# api.GetFriendIDs(2917808716)[0]"
   ]
  },
  {
   "cell_type": "code",
   "execution_count": 180,
   "metadata": {
    "pycharm": {
     "name": "#%%\n"
    }
   },
   "outputs": [],
   "source": [
    "with open('./twitter_graph', 'wb') as f:\n",
    "    pickle.dump(g, f)\n",
    "\n",
    "with open('./twitter_directed_graph', 'wb') as f:\n",
    "    pickle.dump(dg, f)"
   ]
  },
  {
   "cell_type": "code",
   "execution_count": 181,
   "metadata": {
    "pycharm": {
     "name": "#%%\n"
    }
   },
   "outputs": [],
   "source": [
    "with open('./twitter_graph', 'rb') as f:\n",
    "    new_g = pickle.load(f)\n",
    "\n",
    "with open('./twitter_directed_graph', 'rb') as f:\n",
    "    new_dg = pickle.load(f)"
   ]
  },
  {
   "cell_type": "code",
   "execution_count": 182,
   "metadata": {
    "pycharm": {
     "name": "#%%\n"
    }
   },
   "outputs": [],
   "source": [
    "\n",
    "plt.plot()\n",
    "nx.draw(new_g, with_labels=True)\n",
    "plt.show()"
   ]
  },
  {
   "cell_type": "code",
   "execution_count": 183,
   "metadata": {
    "pycharm": {
     "name": "#%%\n"
    }
   },
   "outputs": [],
   "source": [
    "def draw_graph(G):\n",
    "    degree_sequence = sorted([d for n, d in G.degree()], reverse=True)  # degree sequence\n",
    "    degreeCount = collections.Counter(degree_sequence)\n",
    "    deg, cnt = zip(*degreeCount.items())\n",
    "\n",
    "    fig, ax = plt.subplots()\n",
    "    plt.bar(deg, cnt, width=0.80, color=\"b\")\n",
    "\n",
    "    plt.title(\"Degree Histogram\")\n",
    "    plt.ylabel(\"Count\")\n",
    "    plt.xlabel(\"Degree\")\n",
    "    ax.set_xticks([d + 0.4 for d in deg])\n",
    "    ax.set_xticklabels(deg)\n",
    "\n",
    "    # draw graph in inset\n",
    "    plt.axes([0.4, 0.4, 0.5, 0.5])\n",
    "    pos = nx.spring_layout(G)\n",
    "    plt.axis(\"off\")\n",
    "    nx.draw_networkx_nodes(G, pos, node_size=10)\n",
    "    nx.draw_networkx_edges(G, pos, alpha=0.4)\n",
    "    plt.show()"
   ]
  },
  {
   "cell_type": "code",
   "execution_count": 184,
   "outputs": [],
   "source": [
    "draw_graph(g)"
   ],
   "metadata": {
    "collapsed": false,
    "pycharm": {
     "name": "#%%\n"
    }
   }
  },
  {
   "cell_type": "code",
   "execution_count": 186,
   "outputs": [
    {
     "name": "stdout",
     "output_type": "stream",
     "text": [
      "Christian McCaffrey\t['Saquon Barkley', 'Ezekiel Elliott', '\\ue10eDerrick Henry \\ue13d\\ue011', 'Dalvin Cook', 'Nick Chubb', 'George Kittle', 'Austin Ekeler', 'Mike Evans', 'Mark Andrews 8⃣9️⃣', 'James Conner', 'JuJu Smith-Schuster', 'Cooper Kupp', 'Tyler Lockett', 'Zach Ertz', 'Mark Ingram II', 'Keenan Allen', 'Michael Gallup', 'Jk dobbins', 'Cameron 1 Newton', 'Matt Breida', 'Sony Michel', 'Austin M Hooper', 'Baker Mayfield', 'Eric Ebron', 'Allen Lazard', 'Curtis Samuel', 'Teddy Bridgewater', 'Harrison Butker', 'OJ Howard ™', 'Greg Olsen', 'Cole Beasley', 'Chief David Njoku', 'LeSean Shady Mccoy', 'Wayne Gallman II']\n",
      "Saquon Barkley\t['Christian McCaffrey', 'Ezekiel Elliott', 'Miles Sanders', 'George Kittle', 'Chris Godwin', 'Mike Evans', 'Lamar Jackson', 'James Conner', 'Odell Beckham Jr', 'Todd Gurley II', 'Jonathan Taylor', 'DK Metcalf', 'Mark Ingram II', 'DIGGS', 'Cam akers', 'Jarvis Juice Landry', '7⃣ Leonard Fournette', 'Evan Engram', 'Julian Edelman', 'SWIFT7️⃣', 'Jk dobbins', 'Tom Brady', 'CeeDee Lamb', 'Darius Slayton', 'Sterling  Shepard', 'Mike Gesicki', 'Baker Mayfield', 'Golden Tate', 'Eric Ebron', 'Chase Edmonds', 'Drew Lock', 'Dwayne Haskins, Jr', 'Rashaad Penny', 'Chief David Njoku', 'Auden Tate', 'KJ HAMLER', 'Mohamed Sanu Sr.', 'Wayne Gallman II', 'DaeSean Hamilton']\n",
      "Ezekiel Elliott\t['Christian McCaffrey', 'Saquon Barkley', '\\ue10eDerrick Henry \\ue13d\\ue011', 'Dalvin Cook', 'Nick Chubb', 'Ty Hill', 'Travis Kelce', 'Miles Sanders', 'Kenyan Drake™', 'Deandre Hopkins', 'Mike Evans', 'Lamar Jackson', 'James Conner', 'Odell Beckham Jr', 'Todd Gurley II', 'JuJu Smith-Schuster', 'Terry McLaurin', 'DK Metcalf', 'Dak Prescott', 'Keenan Allen', 'DIGGS', 'Michael Gallup', 'Cam akers', 'Jarvis Juice Landry', '7⃣ Leonard Fournette', 'Kareemhunt3⃣', 'Jk dobbins', 'CeeDee Lamb', 'Emmanuel Sanders', 'Kerryon Johnson', 'Baker Mayfield', 'Joey Burrow', 'Curtis Samuel', 'Parris Campbell', 'Chris Thompson', 'OJ Howard ™', 'Carlos Hyde', 'Cole Beasley', 'Dwayne Haskins, Jr', 'Frank Gore', 'Rashaad Penny', 'Flash', 'Ted Ginn Jr']\n",
      "Derrick Henry \t['Christian McCaffrey', 'Ezekiel Elliott', 'Kenyan Drake™', 'James Conner', 'Todd Gurley II', 'CALVIN RIDLEY', 'Mark Ingram II', 'Eric Ebron', 'King me', 'OJ Howard ™', 'Corey Davis', 'Darrynton Evans', 'Demarcus Robinson']\n",
      "Dalvin Cook\t['Christian McCaffrey', 'Ezekiel Elliott', 'James Conner', 'JuJu Smith-Schuster', 'DIGGS', 'Cam akers', 'Will Fuller V', 'Latavius Murray', 'Teddy Bridgewater', 'Chris Thompson', 'Auden Tate', 'Devonta Freeman', 'Wayne Gallman II']\n",
      "Alvin Kamara\t['Mark Ingram II']\n",
      "Josh Jacobs\t['Miles Sanders', 'George Kittle', 'James Conner', 'CALVIN RIDLEY', 'Tyler Lockett', 'Mark Ingram II', 'Hollywood Brown', 'SWIFT7️⃣', 'Diontae Johnson', 'HJR III™💎', 'Jerry Jeudy⁴', 'Irvin Smith Jr.', 'Derek Carr', 'OJ Howard ™', 'Bryan Edwards', 'Jalen Richard', 'Justice Hill', 'Daniel Carlson', 'Lynn Bowden Jr', 'Devonta Freeman']\n",
      "Nick Chubb\t['Christian McCaffrey', 'Ezekiel Elliott', 'Kenyan Drake™', 'Todd Gurley II', 'David Montgomery', 'Jarvis Juice Landry', '7⃣ Leonard Fournette', 'SWIFT7️⃣', 'Sony Michel', 'Mecole Hardman Jr.', 'Baker Mayfield', 'Rashaad Penny', 'Rodrigo Blankenship']\n",
      "Davante Adams\t['George Kittle', 'Deandre Hopkins', 'Mike Evans', 'DIGGS', 'Aaron Rodgers', 'Eric Ebron', 'Allen Lazard', 'Derek Carr', 'Randall Cobb', 'Mason Crosby', 'Jimmy Graham', 'Jace', 'Mohamed Sanu Sr.']\n",
      "Ty Hill\t['Ezekiel Elliott', 'Travis Kelce', 'Kenyan Drake™', 'Patrick Mahomes II', 'Mike Evans', 'Tyler Lockett', 'DK Metcalf', 'Keenan Allen', 'DIGGS', 'Kareemhunt3⃣', 'HJR III™💎', 'Emmanuel Sanders', 'Baker Mayfield', 'Golden Tate', 'Eric Ebron', 'Harrison Butker', 'Carlos Hyde', 'KJ HAMLER', 'DARWIN THOMPSON', 'Jakeem Grant']\n",
      "Travis Kelce\t['Ezekiel Elliott', 'Ty Hill', 'George Kittle', 'Patrick Mahomes II', 'Mike Evans', 'Zach Ertz', 'Mark Ingram II', 'Keenan Allen', 'DIGGS', 'Jarvis Juice Landry', 'Kareemhunt3⃣', 'Hunter Henry', 'Golden Tate', 'Eric Ebron', 'King me', 'Harrison Butker', 'Derek Carr', 'darrel williams', 'Kyle Rudolph', 'Tyler Eifert', 'Danny Amendola', 'Chief David Njoku', 'Demarcus Robinson', 'DARWIN THOMPSON', 'Ryan Succop', 'Mohamed Sanu Sr.', 'Trey Burton']\n",
      "Aaron Jones\t['Wil Lutz']\n",
      "Miles Sanders\t['Josh Jacobs', 'Ezekiel Elliott', 'Saquon Barkley', 'Chris Godwin', 'AJ Brown', 'James Conner', 'Jonathan Taylor', 'Zach Ertz', 'Cam akers', 'SWIFT7️⃣', 'Carson Wentz', 'Jk dobbins', 'Sony Michel', 'Mike Gesicki', 'Dallas Goedert', 'Keal', 'Chase Edmonds', 'AJ “The Sauce” Dillon', 'Carlos Hyde', 'Mr SNELL YA LATER👋🏾', 'Jake Elliott', 'Alshon Jeffery', 'Dwayne Haskins, Jr', 'KJ HAMLER', 'Devin Duvernay', 'DaeSean Hamilton']\n",
      "George Kittle\t['Josh Jacobs', 'Christian McCaffrey', 'Davante Adams', 'Saquon Barkley', 'Travis Kelce', 'Deandre Hopkins', 'Patrick Mahomes II', 'Mike Evans', 'Mark Andrews 8⃣9️⃣', 'Adam Thielen', 'James Conner', 'Todd Gurley II', 'CALVIN RIDLEY', 'Cooper Kupp', 'Zach Ertz', 'Raheem Mostert', 'Keenan Allen', 'DIGGS', 'Josh Allen', 'Hunter Henry', 'Tyler Higbee', 'Hayden Hurst', 'Aaron Rodgers', 'Rob Gronkowski', 'Matt Breida', 'Mike Gesicki', 'TJ Hockenson', 'Emmanuel Sanders', 'Jonnu Smith', 'Baker Mayfield', 'Eric Ebron', 'Jimmy Garoppolo', 'OJ Howard ™', 'Robbie Gould', 'Dawson Knox', 'Jerick Mckinnon', 'Kyle Rudolph', 'Dede Westbrook', 'Kenny Stills', 'Gerald Everett', 'Will Dissly', 'Tyler Eifert', 'Frank Gore', 'Kendrick Bourne Poly', 'Chief David Njoku', 'Mitchell Trubisky']\n",
      "Chris Godwin\t['Miles Sanders', 'Saquon Barkley', 'Mike Evans', 'Cooper Kupp', 'Mike Gesicki', 'Breshad Perriman', 'OJ Howard ™', 'Adam Humphries', 'KJ HAMLER', 'Zachary Pascal', 'Dare Ogunbowale', 'DaeSean Hamilton']\n",
      "Kenyan Drake™\t['Ty Hill', 'Ezekiel Elliott', 'Nick Chubb', '\\ue10eDerrick Henry \\ue13d\\ue011', 'Deandre Hopkins', 'James Conner', 'Todd Gurley II', 'CALVIN RIDLEY', 'Tyler Lockett', 'Mark Ingram II', 'DeVante Parker', 'Kyler Murray', 'Evan Engram', 'Christian Kirk', 'Jerry Jeudy⁴', 'Chase Edmonds', 'Teddy Bridgewater', 'OJ Howard ™', 'Kenny Stills', 'Gerald Everett', 'Frank Gore', 'Danny Amendola', 'Peyton Barber', 'Demarcus Robinson', 'IG MikeDavisRB', 'Jakeem Grant']\n",
      "Kenny Golladay\t['Golden Tate', 'Eric Ebron']\n",
      "Deandre Hopkins\t['Kenyan Drake™', 'George Kittle', 'Davante Adams', 'Ezekiel Elliott', 'AJ Brown', 'Allen Robinson II', 'Lamar Jackson', 'James Conner', 'Odell Beckham Jr', 'Todd Gurley II', 'JuJu Smith-Schuster', 'CALVIN RIDLEY', 'Tyler Lockett', 'DK Metcalf', 'Keenan Allen', 'DIGGS', 'Kyler Murray', 'Jarvis Juice Landry', 'Will Fuller V', 'Tom Brady', 'Christian Kirk', 'Sterling  Shepard', 'Emmanuel Sanders', 'Golden Tate', 'Eric Ebron', 'King me', 'Hunter Renfrow', 'Alshon Jeffery', 'Dwayne Haskins, Jr', 'Kenny Stills', 'Tee Higgins⁵', 'Adam Humphries', 'Mohamed Sanu Sr.', 'Wayne Gallman II', 'Keke Coutee']\n",
      "Patrick Mahomes II\t['George Kittle', 'Ty Hill', 'Travis Kelce', 'Mike Evans', 'James Conner', 'Todd Gurley II', 'JuJu Smith-Schuster', 'CALVIN RIDLEY', 'Jonathan Taylor', 'Tyler Lockett', 'Zach Ertz', 'Keenan Allen', 'Josh Allen', 'Kareemhunt3⃣', 'Aaron Rodgers', 'Christian Kirk', 'Mecole Hardman Jr.', 'Baker Mayfield', 'Joey Burrow', 'Eric Ebron', 'Allen Lazard', 'Harrison Butker', 'OJ Howard ™', 'Carlos Hyde', 'Corey Davis', 'darrel williams', 'Alshon Jeffery', 'Jamaal Williams', 'Dwayne Haskins, Jr', 'Dede Westbrook', 'Danny Amendola', 'Booger', 'Chief David Njoku', 'Mitchell Trubisky', 'LeSean Shady Mccoy', 'Demarcus Robinson', 'DARWIN THOMPSON', 'Greg Ward, Jr.', 'Mohamed Sanu Sr.', 'DeAndre Washington', 'Trey Burton', 'Keke Coutee', 'Eno Benjamin', 'Jakeem Grant']\n",
      "Austin Ekeler\t['Christian McCaffrey', 'Keenan Allen', 'Phillip Lindsay', 'Boston Scott', 'Chase Edmonds', 'Joshua Kelley']\n",
      "Mike Evans\t['Saquon Barkley', 'George Kittle', 'Christian McCaffrey', 'Ty Hill', 'Patrick Mahomes II', 'Chris Godwin', 'Travis Kelce', 'Ezekiel Elliott', 'Davante Adams', 'James Conner', 'Odell Beckham Jr', 'Todd Gurley II', 'JuJu Smith-Schuster', 'Tyler Lockett', 'DJ Chark', 'Mark Ingram II', 'Keenan Allen', 'Kyler Murray', 'Jarvis Juice Landry', '7⃣ Leonard Fournette', 'Brandin Cooks', 'Christian Kirk', 'Desean Jackson', 'Jerry Jeudy⁴', 'Mecole Hardman Jr.', 'Tarik Cohen', 'Eric Ebron', 'Allen Lazard', 'Breshad Perriman', 'King me', 'Teddy Bridgewater', 'OJ Howard ™', 'Randall Cobb', 'Malcolm Brown', 'Kenny Stills', 'Booger', 'Peyton Barber', 'Adam Humphries', 'Josh Lambo', 'LeSean Shady Mccoy', 'Willie Snead IV', 'Randy Bullock', 'Mohamed Sanu Sr.', 'Dare Ogunbowale', 'Trey Burton', 'Wayne Gallman II']\n",
      "Mark Andrews 8⃣9️⃣\t['George Kittle', 'Christian McCaffrey', 'Mark Ingram II', 'Hollywood Brown', 'Jk dobbins', 'Hayden Hurst', 'Aaron Rodgers', 'CeeDee Lamb', 'Baker Mayfield', 'Allen Lazard', 'Justin Tucker', 'Justice Hill', 'Willie Snead IV', 'Nick Boyle']\n",
      "Chris Carson\t['Tyler Lockett', 'Michael Gallup', 'Phillip Lindsay', 'Darius Slayton', 'Blake Jarwin', 'Rashaad Penny', 'Justice Hill', 'Jd Mckissic', 'IG MikeDavisRB']\n",
      "AJ Brown\t['Miles Sanders', 'Deandre Hopkins', 'CALVIN RIDLEY', 'DK Metcalf', 'Dak Prescott', 'Keenan Allen', 'Cam akers', 'Hollywood Brown', 'Evan Engram', 'Christian Kirk', 'Anthony Miller', 'Jonnu Smith', 'Jerry Jeudy⁴', 'Keal', 'Corey Davis', 'Dawson Knox', 'Ito Smith', 'Devin Asiasi “2X” 🤲🏽']\n",
      "Allen Robinson II\t['Deandre Hopkins', 'Lamar Jackson', 'Keenan Allen', 'Jarvis Juice Landry', 'Anthony Miller', 'Tarik Cohen', 'Eric Ebron', 'King me', 'Teddy Bridgewater', 'Carlos Hyde', 'Alshon Jeffery', 'Kenny Stills', 'Jason Myers', 'Jimmy Graham', 'Mitchell Trubisky', 'Trey Burton', 'DaeSean Hamilton']\n",
      "Adam Thielen\t['George Kittle', 'Tyler Lockett', 'Zach Ertz', 'DIGGS', 'Julian Edelman', 'Jared Goff', 'Latavius Murray', 'kirkcousins8', 'Teddy Bridgewater', 'Randall Cobb', 'Jerick Mckinnon', 'Kyle Rudolph', 'Mohamed Sanu Sr.', 'cordarrelle patterson']\n",
      "Lamar Jackson\t['Deandre Hopkins', 'Allen Robinson II', 'Saquon Barkley', 'Ezekiel Elliott', 'Todd Gurley II', 'CALVIN RIDLEY', 'DJ Chark', 'Mark Ingram II', 'Dak Prescott', 'Hollywood Brown', 'Jarvis Juice Landry', 'Devin Singletary', 'Jk dobbins', 'Hayden Hurst', 'James White', 'Jerry Jeudy⁴', 'Baker Mayfield', 'Tarik Cohen', 'Robby Anderson', 'Teddy Bridgewater', 'Justin Tucker', 'Derek Carr', 'OJ Howard ™', 'Kenny Stills', 'Tee Higgins⁵', 'Willie Snead IV', 'Devin Duvernay', 'Lynn Bowden Jr', 'Mohamed Sanu Sr.', 'Nick Boyle']\n",
      "James Conner\t['Mike Evans', 'Deandre Hopkins', 'Josh Jacobs', 'George Kittle', 'Saquon Barkley', 'Patrick Mahomes II', 'Ezekiel Elliott', 'Dalvin Cook', 'Christian McCaffrey', '\\ue10eDerrick Henry \\ue13d\\ue011', 'Kenyan Drake™', 'Miles Sanders', 'Odell Beckham Jr', 'Todd Gurley II', 'JuJu Smith-Schuster', 'Jonathan Taylor', 'Cooper Kupp', 'Tyler Lockett', 'Mark Ingram II', 'Keenan Allen', 'DIGGS', 'Jarvis Juice Landry', 'Evan Engram', 'Will Fuller V', 'Tyler Boyd', 'Devin Singletary', 'Diontae Johnson', 'Marlon Mack', 'Phillip Lindsay', 'BigBen7.com', 'Mike Gesicki', 'Latavius Murray', 'Baker Mayfield', 'Tarik Cohen', 'Eric Ebron', 'James Washington', 'Corey Davis', 'Mr SNELL YA LATER👋🏾', 'Chase Claypool', 'Chief David Njoku', 'Mitchell Trubisky', 'LeSean Shady Mccoy', 'Dion Lewis', 'Jaylen Samuels', 'Mohamed Sanu Sr.', 'Wayne Gallman II', 'IG MikeDavisRB']\n",
      "Odell Beckham Jr\t['Saquon Barkley', 'Ezekiel Elliott', 'James Conner', 'Deandre Hopkins', 'Mike Evans', 'JuJu Smith-Schuster', 'CALVIN RIDLEY', 'Robert Woods', 'Tyler Lockett', 'DJ Chark', 'Mark Ingram II', 'Keenan Allen', 'Jarvis Juice Landry', '7⃣ Leonard Fournette', 'Tyler Boyd', 'Julian Edelman', 'Christian Kirk', 'CeeDee Lamb', 'Rob Gronkowski', 'Cameron 1 Newton', 'Emmanuel Sanders', 'Eric Ebron', 'King me', 'Teddy Bridgewater', 'Derek Carr', 'Randall Cobb', 'Robbie Gould', 'Tyrod Taylor', 'Kenny Stills', 'Danny Amendola', 'Jimmy Graham', 'Kendrick Bourne Poly', 'Willie Snead IV', 'Mohamed Sanu Sr.', 'Devonta Freeman', 'Flash', 'Trey Burton', 'Wayne Gallman II']\n",
      "Todd Gurley II\t['George Kittle', 'Patrick Mahomes II', 'Saquon Barkley', 'Lamar Jackson', 'Mike Evans', 'Ezekiel Elliott', 'James Conner', 'Nick Chubb', 'Deandre Hopkins', '\\ue10eDerrick Henry \\ue13d\\ue011', 'Kenyan Drake™', 'JuJu Smith-Schuster', 'Robert Woods', 'Jonathan Taylor', 'Cooper Kupp', 'Tyler Lockett', 'Zach Ertz', 'Mark Ingram II', 'Keenan Allen', 'DeVante Parker', 'DIGGS', 'Jarvis Juice Landry', 'Aj Green', 'Kareemhunt3⃣', 'Tyler Higbee', 'SWIFT7️⃣', 'Hayden Hurst', 'Brandin Cooks', 'Phillip Lindsay', 'CeeDee Lamb', 'Sony Michel', 'Jared Goff', 'Tevin Coleman', 'Latavius Murray', 'Kerryon Johnson', 'Tarik Cohen', 'Eric Ebron', '.', 'Teddy Bridgewater', 'Derek Carr', 'darrel williams', 'Mr SNELL YA LATER👋🏾', 'Malcolm Brown', 'Alshon Jeffery', 'Gerald Everett', 'LeSean Shady Mccoy', 'Nick Foles', 'Mohamed Sanu Sr.', 'Devonta Freeman', 'Flash', 'Wayne Gallman II', 'IG MikeDavisRB']\n",
      "JuJu Smith-Schuster\t['Mike Evans', 'Patrick Mahomes II', 'Ezekiel Elliott', 'James Conner', 'Dalvin Cook', 'Todd Gurley II', 'Deandre Hopkins', 'Odell Beckham Jr', 'Christian McCaffrey', 'Robert Woods', 'Jarvis Juice Landry', 'Brandin Cooks', 'Diontae Johnson', 'Christian Kirk', 'BigBen7.com', 'Emmanuel Sanders', 'Eric Ebron', 'OJ Howard ™', 'James Washington', 'Corey Davis', 'Mr SNELL YA LATER👋🏾', 'Dede Westbrook', 'Wayne Gallman II']\n",
      "CALVIN RIDLEY\t['George Kittle', 'Josh Jacobs', 'Odell Beckham Jr', 'Deandre Hopkins', 'Lamar Jackson', 'Patrick Mahomes II', 'AJ Brown', '\\ue10eDerrick Henry \\ue13d\\ue011', 'Kenyan Drake™', 'DJ Chark', 'Mark Ingram II', 'Courtland Sutton♠️', 'TY Hilton', 'Hollywood Brown', 'Devin Singletary', 'Hayden Hurst', 'Zack Moss ❌', 'Christian Kirk', 'Mike Gesicki', 'HJR III™💎', 'Preston Williams', 'Emmanuel Sanders', 'Jerry Jeudy⁴', 'Tarik Cohen', 'Robby Anderson', 'Irvin Smith Jr.', 'OJ Howard ™', 'Corey Davis', 'Kenny Stills', 'Brian Hill', 'Auden Tate', 'Willie Snead IV', 'Mohamed Sanu Sr.', 'Devonta Freeman']\n",
      "Robert Woods\t['Todd Gurley II', 'JuJu Smith-Schuster', 'Odell Beckham Jr', 'Cooper Kupp', 'Zach Ertz', 'Keenan Allen', 'Marvin Jones Jr', 'Tyler Higbee', 'Brandin Cooks', 'Jared Goff', 'King me', 'Teddy Bridgewater', 'Tyrod Taylor', 'Kenny Stills', 'Gerald Everett', 'Dustin Hopkins', 'Willie Snead IV']\n",
      "Jonathan Taylor\t['Patrick Mahomes II', 'James Conner', 'Todd Gurley II', 'Miles Sanders', 'Saquon Barkley', 'SWIFT7️⃣', 'James White', 'Darrell Henderson Jr', 'Parris Campbell', 'AJ “The Sauce” Dillon', 'Dare Ogunbowale']\n",
      "Cooper Kupp\t['George Kittle', 'Chris Godwin', 'Todd Gurley II', 'Robert Woods', 'James Conner', 'Christian McCaffrey', 'Dak Prescott', 'Keenan Allen', 'Cam akers', 'Tyler Higbee', 'Brandin Cooks', 'BigBen7.com', 'Jared Goff', 'Latavius Murray', 'Baker Mayfield', 'Eric Ebron', 'Gerald Everett', 'Kendrick Bourne Poly', 'Mitchell Trubisky']\n",
      "Terry McLaurin\t['Ezekiel Elliott', 'Jk dobbins', 'Joey Burrow', 'Allen Lazard', 'Curtis Samuel', 'Parris Campbell', '$.', 'Dwayne Haskins, Jr', 'KJ HAMLER']\n",
      "Tyler Lockett\t['Kenyan Drake™', 'Adam Thielen', 'James Conner', 'Patrick Mahomes II', 'Mike Evans', 'Josh Jacobs', 'Ty Hill', 'Chris Carson', 'Deandre Hopkins', 'Christian McCaffrey', 'Todd Gurley II', 'Odell Beckham Jr', 'DK Metcalf', 'Keenan Allen', 'Russell Wilson', 'DeVante Parker', 'DIGGS', 'Michael Gallup', 'Jarvis Juice Landry', 'Brandin Cooks', 'Sterling  Shepard', 'Jerry Jeudy⁴', 'Mecole Hardman Jr.', 'Golden Tate', 'Eric Ebron', 'King me', 'Teddy Bridgewater', 'Derek Carr', 'Malcolm Brown', 'Kenny Stills', 'Will Dissly', 'Jimmy Graham', 'Rashaad Penny', 'Kendrick Bourne Poly', 'Justice Hill', 'DARWIN THOMPSON', 'Willie Snead IV', 'Jd Mckissic', 'Flash', 'IG MikeDavisRB']\n",
      "DK Metcalf\t['Ezekiel Elliott', 'Ty Hill', 'Tyler Lockett', 'Saquon Barkley', 'AJ Brown', 'Deandre Hopkins', 'Evan Engram', 'Alexander Mattison', 'Gardner Minshew', 'Bryan Edwards', 'Dawson Knox', 'Will Dissly', 'Rashaad Penny', 'DARWIN THOMPSON', 'Flash']\n",
      "Zach Ertz\t['Miles Sanders', 'Todd Gurley II', 'Patrick Mahomes II', 'George Kittle', 'Adam Thielen', 'Christian McCaffrey', 'Travis Kelce', 'Robert Woods', 'DIGGS', 'Jarvis Juice Landry', 'Carson Wentz', 'Brandin Cooks', 'Dallas Goedert', 'Golden Tate', 'Eric Ebron', 'Derek Carr', 'Jake Elliott', 'Kyle Rudolph', 'Mitchell Trubisky', 'Nick Foles', 'Trey Burton']\n",
      "DJ Chark\t['Lamar Jackson', 'CALVIN RIDLEY', 'Mike Evans', 'Odell Beckham Jr', 'Mark Ingram II', 'Michael Gallup', '7⃣ Leonard Fournette', 'Josh Allen', 'Christian Kirk', 'Anthony Miller', 'Baker Mayfield', 'darrel williams', 'Dede Westbrook', 'Russell Gage Jr.', 'Jalen Richard']\n",
      "Mark Ingram II\t['James Conner', 'DJ Chark', 'Christian McCaffrey', 'Mike Evans', 'Saquon Barkley', 'Mark Andrews 8⃣9️⃣', 'Josh Jacobs', 'Lamar Jackson', 'Alvin Kamara', 'CALVIN RIDLEY', 'Todd Gurley II', '\\ue10eDerrick Henry \\ue13d\\ue011', 'Travis Kelce', 'Kenyan Drake™', 'Odell Beckham Jr', 'Keenan Allen', 'Hollywood Brown', 'Aj Green', 'Drew Brees', 'Jk dobbins', 'Hayden Hurst', 'Brandin Cooks', 'Phillip Lindsay', 'Golden Tate', 'Boston Scott', 'Eric Ebron', 'King me', 'Teddy Bridgewater', 'Justin Tucker', 'Wil Lutz', 'OJ Howard ™', 'Randall Cobb', 'Kenny Stills', 'Jimmy Graham', 'Justice Hill', 'Willie Snead IV', 'Wayne Gallman II']\n",
      "Courtland Sutton♠️\t['CALVIN RIDLEY', 'Keenan Allen', 'Kyler Murray', 'Christian Kirk', 'Phillip Lindsay', 'HJR III™💎', 'Emmanuel Sanders', 'Jerry Jeudy⁴', 'Allen Lazard', 'Cole Beasley', 'Royce Freeman', 'DaeSean Hamilton']\n",
      "Raheem Mostert\t['George Kittle', 'Matt Breida', 'Emmanuel Sanders', '.', 'Robbie Gould', 'Darrynton Evans', 'Jamaal Williams', 'Jerick Mckinnon', 'Frank Gore', 'Kendrick Bourne Poly', 'IG MikeDavisRB']\n",
      "Dak Prescott\t['Ezekiel Elliott', 'AJ Brown', 'Lamar Jackson', 'Cooper Kupp', '7⃣ Leonard Fournette', 'Teddy Bridgewater', 'Cole Beasley']\n",
      "Keenan Allen\t['Allen Robinson II', 'AJ Brown', 'Courtland Sutton♠️', 'George Kittle', 'Ty Hill', 'Austin Ekeler', 'Ezekiel Elliott', 'Deandre Hopkins', 'Mike Evans', 'Patrick Mahomes II', 'James Conner', 'Cooper Kupp', 'Robert Woods', 'Mark Ingram II', 'Todd Gurley II', 'Travis Kelce', 'Christian McCaffrey', 'Tyler Lockett', 'Odell Beckham Jr', 'TY Hilton', 'DIGGS', 'Jarvis Juice Landry', 'Marvin Jones Jr', 'Hunter Henry', 'HJR III™💎', 'Emmanuel Sanders', 'Baker Mayfield', 'Tarik Cohen', 'Golden Tate', 'Eric Ebron', 'King me', 'Derek Carr', 'Tyrod Taylor', 'Cole Beasley', 'Alshon Jeffery', 'Dwayne Haskins, Jr', 'Tee Higgins⁵', 'LeSean Shady Mccoy', 'KJ HAMLER', 'Mohamed Sanu Sr.', 'Flash']\n",
      "Russell Wilson\t['Tyler Lockett', 'Tom Brady']\n",
      "DeVante Parker\t['Kenyan Drake™', 'Todd Gurley II', 'Tyler Lockett', 'DIGGS', 'Jarvis Juice Landry', 'Matt Breida', 'Tevin Coleman', 'Mike Gesicki', 'Preston Williams', 'Teddy Bridgewater', 'Dwayne Haskins, Jr', 'Kenny Stills', 'Phillip Dorsett', 'Willie Snead IV', 'Jakeem Grant', 'Patrick Laird']\n",
      "TY Hilton\t['CALVIN RIDLEY', 'Keenan Allen', 'Jarvis Juice Landry', 'Julian Edelman', 'Marlon Mack', 'Emmanuel Sanders', 'Jonnu Smith', 'Eric Ebron', 'Teddy Bridgewater', 'Parris Campbell', 'Derek Carr', 'Nyheim Hines', 'Kenny Stills', 'Phillip Dorsett', 'Mohamed Sanu Sr.']\n",
      "DIGGS\t['Zach Ertz', 'Ezekiel Elliott', 'Saquon Barkley', 'Deandre Hopkins', 'George Kittle', 'Travis Kelce', 'Ty Hill', 'Dalvin Cook', 'Davante Adams', 'James Conner', 'Keenan Allen', 'Tyler Lockett', 'Adam Thielen', 'DeVante Parker', 'Todd Gurley II', 'Jarvis Juice Landry', '7⃣ Leonard Fournette', 'Josh Allen', 'Zack Moss ❌', 'CeeDee Lamb', 'James White', 'Latavius Murray', 'HJR III™💎', 'Jerry Jeudy⁴', 'Eric Ebron', 'Breshad Perriman', 'Robby Anderson', 'kirkcousins8', 'Teddy Bridgewater', 'Irvin Smith Jr.', 'Derek Carr', 'Tyrod Taylor', 'Cole Beasley', 'Dwayne Haskins, Jr', 'Jerick Mckinnon', 'Kenny Stills', 'KJ HAMLER', 'Mohamed Sanu Sr.', 'cordarrelle patterson', 'IG MikeDavisRB']\n",
      "Michael Gallup\t['DJ Chark', 'Tyler Lockett', 'Christian McCaffrey', 'Ezekiel Elliott', 'Chris Carson', 'Josh Allen', 'Phillip Lindsay', 'CeeDee Lamb', 'Darius Slayton', 'Preston Williams', 'Blake Jarwin', 'Allen Lazard', 'Randall Cobb', 'Cole Beasley', 'Dede Westbrook', 'Rashaad Penny', 'Jaylen Samuels', 'Mike Boone', 'Mohamed Sanu Sr.', 'Keke Coutee']\n",
      "Cam akers\t['Cooper Kupp', 'Saquon Barkley', 'Dalvin Cook', 'Miles Sanders', 'Ezekiel Elliott', 'AJ Brown', 'SWIFT7️⃣', 'HJR III™💎', 'Darrell Henderson Jr', 'Drew Lock', 'Chris Thompson', 'Dwayne Haskins, Jr', 'Tee Higgins⁵', 'KJ HAMLER', 'Eno Benjamin']\n",
      "Kyler Murray\t['Kenyan Drake™', 'Deandre Hopkins', 'Courtland Sutton♠️', 'Mike Evans', 'Hollywood Brown', 'Aaron Rodgers', 'Christian Kirk', 'CeeDee Lamb', 'Baker Mayfield', 'Dede Westbrook', 'Kenny Stills', 'Devin Duvernay']\n",
      "David Montgomery\t['Nick Chubb', 'Kareemhunt3⃣', 'CeeDee Lamb', 'Tarik Cohen', 'Allen Lazard', 'Justice Hill', 'IG MikeDavisRB']\n",
      "Hollywood Brown\t['Mark Andrews 8⃣9️⃣', 'Mark Ingram II', 'Josh Jacobs', 'AJ Brown', 'Lamar Jackson', 'CALVIN RIDLEY', 'Kyler Murray', 'Will Fuller V', 'Hayden Hurst', 'Diontae Johnson', 'CeeDee Lamb', 'Jerry Jeudy⁴', 'Baker Mayfield', 'Tarik Cohen', 'Parris Campbell', 'Dede Westbrook', 'Miles Boykin', 'Justice Hill', 'Willie Snead IV', 'Nick Boyle']\n",
      "Jarvis Juice Landry\t['Deandre Hopkins', 'James Conner', 'Nick Chubb', 'Tyler Lockett', 'Zach Ertz', 'Saquon Barkley', 'Travis Kelce', 'Lamar Jackson', 'DIGGS', 'JuJu Smith-Schuster', 'Ezekiel Elliott', 'TY Hilton', 'DeVante Parker', 'Keenan Allen', 'Allen Robinson II', 'Mike Evans', 'Todd Gurley II', 'Odell Beckham Jr', '7⃣ Leonard Fournette', 'Julian Edelman', 'James White', 'Baker Mayfield', 'Joey Burrow', 'Eric Ebron', 'Breshad Perriman', '.', 'Teddy Bridgewater', 'Derek Carr', 'Tyrod Taylor', 'Kenny Stills', 'Chief David Njoku', 'Willie Snead IV', 'Mohamed Sanu Sr.', 'Jakeem Grant']\n",
      "Aj Green\t['Todd Gurley II', 'Mark Ingram II', 'Marvin Jones Jr', 'Randall Cobb', 'Alshon Jeffery', 'Mason Crosby', 'Tyler Eifert', 'Mohamed Sanu Sr.']\n",
      "7⃣ Leonard Fournette\t['Mike Evans', 'Nick Chubb', 'DIGGS', 'Dak Prescott', 'Saquon Barkley', 'Jarvis Juice Landry', 'Ezekiel Elliott', 'DJ Chark', 'Odell Beckham Jr', 'Baker Mayfield', 'Boston Scott', 'AJ “The Sauce” Dillon', 'darrel williams', 'Kenny Stills']\n",
      "Evan Engram\t['Saquon Barkley', 'AJ Brown', 'DK Metcalf', 'James Conner', 'Kenyan Drake™', 'Hunter Henry', 'Eric Ebron', 'OJ Howard ™', 'Corey Davis', 'Dawson Knox', 'Ito Smith', 'Chief David Njoku', 'Wayne Gallman II']\n",
      "Will Fuller V\t['Hollywood Brown', 'Dalvin Cook', 'Deandre Hopkins', 'James Conner', 'Tyler Boyd', 'SWIFT7️⃣', 'Sterling  Shepard', 'Golden Tate', 'Kenny Stills', 'Danny Amendola', 'Chase Claypool', 'Keke Coutee']\n",
      "Tyler Boyd\t['Odell Beckham Jr', 'James Conner', 'Will Fuller V', 'Matt Breida', 'Joey Burrow', 'Giovani Bernard', 'Tee Higgins⁵', 'Auden Tate', 'Randy Bullock']\n",
      "Matt Ryan\t['Austin M Hooper', 'Mohamed Sanu Sr.', 'Devonta Freeman']\n",
      "Josh Allen\t['DIGGS', 'George Kittle', 'Michael Gallup', 'DJ Chark', 'Patrick Mahomes II', 'Devin Singletary', 'Zack Moss ❌', 'Baker Mayfield', 'Golden Tate', 'Drew Lock', 'Derek Carr', 'OJ Howard ™', 'Dawson Knox', 'Cole Beasley', 'Frank Gore', 'Rashaad Penny', 'Brian Hill', 'LeSean Shady Mccoy']\n",
      "Marvin Jones Jr\t['Keenan Allen', 'Aj Green', 'Robert Woods', 'Golden Tate', 'Eric Ebron', 'Kenny Stills', 'Giovani Bernard', 'Tyler Eifert', 'Mohamed Sanu Sr.']\n",
      "Devin Singletary\t['Josh Allen', 'James Conner', 'CALVIN RIDLEY', 'Lamar Jackson', 'Zack Moss ❌', 'Jerry Jeudy⁴', 'Dawson Knox', 'Frank Gore', 'Justice Hill']\n",
      "Kareemhunt3⃣\t['Ezekiel Elliott', 'David Montgomery', 'Todd Gurley II', 'Ty Hill', 'Patrick Mahomes II', 'Travis Kelce', 'Diontae Johnson', 'Marlon Mack', 'Mitchell Trubisky']\n",
      "Julian Edelman\t['Saquon Barkley', 'Adam Thielen', 'Jarvis Juice Landry', 'TY Hilton', 'Odell Beckham Jr', 'Tom Brady', 'Rob Gronkowski', 'Cameron 1 Newton', 'James White', 'Jared Goff', 'Golden Tate', 'Jimmy Garoppolo', 'Derek Carr', 'Randall Cobb', 'Cole Beasley', 'Danny Amendola', 'Rex Burkhead', 'Dion Lewis', 'Mohamed Sanu Sr.']\n",
      "Hunter Henry\t['George Kittle', 'Travis Kelce', 'Keenan Allen', 'Evan Engram', 'Carson Wentz', 'Eric Ebron', 'OJ Howard ™', 'Trey Burton']\n",
      "Tyler Higbee\t['George Kittle', 'Todd Gurley II', 'Cooper Kupp', 'Robert Woods', 'Jared Goff', 'Gerald Everett', 'DeAndre Washington']\n",
      "SWIFT7️⃣\t['Josh Jacobs', 'Todd Gurley II', 'Nick Chubb', 'Cam akers', 'Jonathan Taylor', 'Miles Sanders', 'Will Fuller V', 'Saquon Barkley', 'Jk dobbins', 'Sony Michel', 'Kerryon Johnson', 'Jerry Jeudy⁴', 'Mecole Hardman Jr.', 'Dwayne Haskins, Jr', 'Tee Higgins⁵', 'KJ HAMLER', 'Eno Benjamin']\n",
      "Carson Wentz\t['Miles Sanders', 'Hunter Henry', 'Zach Ertz', 'Jared Goff', 'Dallas Goedert', 'Golden Tate', 'Boston Scott', 'Jake Elliott', 'Alshon Jeffery', 'Nick Foles', 'Trey Burton']\n",
      "Drew Brees\t['Mark Ingram II', 'Larry Fitzgerald', 'Jimmy Graham']\n",
      "Jk dobbins\t['Mark Andrews 8⃣9️⃣', 'Mark Ingram II', 'Lamar Jackson', 'Terry McLaurin', 'Saquon Barkley', 'Miles Sanders', 'SWIFT7️⃣', 'Christian McCaffrey', 'Ezekiel Elliott', 'CeeDee Lamb', 'Jerry Jeudy⁴', 'Baker Mayfield', 'Joey Burrow', 'Drew Lock', 'Parris Campbell', 'Dwayne Haskins, Jr', 'KJ HAMLER', 'Justice Hill', 'Willie Snead IV', 'Devin Duvernay', 'Lynn Bowden Jr', 'Eno Benjamin']\n",
      "Hayden Hurst\t['Todd Gurley II', 'CALVIN RIDLEY', 'George Kittle', 'Hollywood Brown', 'Mark Ingram II', 'Mark Andrews 8⃣9️⃣', 'Lamar Jackson', 'Jared Cook', 'Bryan Edwards', 'Alshon Jeffery', 'Russell Gage Jr.', 'Willie Snead IV', 'Trey Burton', 'IG MikeDavisRB']\n",
      "Brandin Cooks\t['Todd Gurley II', 'Cooper Kupp', 'Robert Woods', 'JuJu Smith-Schuster', 'Tyler Lockett', 'Zach Ertz', 'Mark Ingram II', 'Mike Evans', 'Tom Brady', 'James White', 'Jared Goff', 'Eric Ebron', 'Teddy Bridgewater', 'Derek Carr', 'Gerald Everett', 'Danny Amendola', 'Jimmy Graham', 'Rex Burkhead', 'Willie Snead IV']\n",
      "Zack Moss ❌\t['Josh Allen', 'DIGGS', 'CALVIN RIDLEY', 'Devin Singletary', 'Laviska Shenault Jr']\n",
      "Tom Brady\t['Russell Wilson', 'Deandre Hopkins', 'Saquon Barkley', 'Brandin Cooks', 'Julian Edelman', 'Rob Gronkowski', 'Sony Michel', 'James White', 'Jared Goff', 'Baker Mayfield', 'Jimmy Garoppolo', 'Danny Amendola', 'Flash']\n",
      "Diontae Johnson\t['Josh Jacobs', 'James Conner', 'JuJu Smith-Schuster', 'Hollywood Brown', 'Kareemhunt3⃣', 'BigBen7.com', 'Eric Ebron', 'Keal', 'Hunter Renfrow', 'James Washington', 'Mr SNELL YA LATER👋🏾', 'Auden Tate']\n",
      "Jared Cook\t['Hayden Hurst', 'Aaron Rodgers', 'Derek Carr', 'Randall Cobb', 'Nick Foles']\n",
      "Marlon Mack\t['James Conner', 'TY Hilton', 'Kareemhunt3⃣', 'Eric Ebron', 'Frank Gore', 'Zachary Pascal']\n",
      "Aaron Rodgers\t['George Kittle', 'Patrick Mahomes II', 'Kyler Murray', 'Jared Cook', 'Mark Andrews 8⃣9️⃣', 'Davante Adams', 'Jared Goff', 'Randall Cobb', 'Kyle Rudolph', 'Mason Crosby', 'Jimmy Graham']\n",
      "Christian Kirk\t['Kenyan Drake™', 'Deandre Hopkins', 'Courtland Sutton♠️', 'DJ Chark', 'AJ Brown', 'CALVIN RIDLEY', 'Patrick Mahomes II', 'JuJu Smith-Schuster', 'Mike Evans', 'Odell Beckham Jr', 'Kyler Murray', 'Baker Mayfield', 'Tarik Cohen', 'Allen Lazard', 'Keal', 'Chase Edmonds', 'Larry Fitzgerald']\n",
      "Phillip Lindsay\t['Chris Carson', 'Mark Ingram II', 'Todd Gurley II', 'James Conner', 'Courtland Sutton♠️', 'Austin Ekeler', 'Michael Gallup', 'Matt Breida', 'Emmanuel Sanders', 'Kerryon Johnson', 'Baker Mayfield', 'Allen Lazard', 'Chris Thompson', 'Mason Crosby', 'Rashaad Penny', 'Ito Smith', 'KJ HAMLER', 'Royce Freeman', 'Mike Boone', 'DaeSean Hamilton', 'Jakeem Grant']\n",
      "CeeDee Lamb\t['Michael Gallup', 'Ezekiel Elliott', 'Saquon Barkley', 'DIGGS', 'Odell Beckham Jr', 'Mark Andrews 8⃣9️⃣', 'Todd Gurley II', 'Kyler Murray', 'David Montgomery', 'Hollywood Brown', 'Jk dobbins', 'HJR III™💎', 'Jerry Jeudy⁴', 'Baker Mayfield', 'Parris Campbell', 'Irvin Smith Jr.', '$.', 'Dede Westbrook', 'Kenny Stills', 'Tee Higgins⁵', 'KJ HAMLER', 'Lynn Bowden Jr', 'Mohamed Sanu Sr.', 'Eno Benjamin']\n",
      "Rob Gronkowski\t['George Kittle', 'Tom Brady', 'Odell Beckham Jr', 'Julian Edelman', 'Greg Olsen', 'Tyler Eifert', 'Danny Amendola', 'Dion Lewis']\n",
      "Darius Slayton\t['Saquon Barkley', 'Michael Gallup', 'Chris Carson', 'Kerryon Johnson', 'Mecole Hardman Jr.', 'Darrynton Evans', 'Daniel Carlson']\n",
      "Cameron 1 Newton\t['Julian Edelman', 'Odell Beckham Jr', 'Christian McCaffrey', 'Greg Olsen', 'Ted Ginn Jr']\n",
      "Daniel Jones\t[]\n",
      "BigBen7.com\t['Diontae Johnson', 'JuJu Smith-Schuster', 'James Conner', 'Cooper Kupp', 'Eric Ebron', 'James Washington', 'Jaylen Samuels', 'Randy Bullock']\n",
      "Sterling  Shepard\t['Saquon Barkley', 'Deandre Hopkins', 'Will Fuller V', 'Tyler Lockett', 'Dede Westbrook', 'Kenny Stills']\n",
      "Matt Breida\t['DeVante Parker', 'Phillip Lindsay', 'Tyler Boyd', 'Christian McCaffrey', 'Raheem Mostert', 'George Kittle', 'Emmanuel Sanders', 'Mecole Hardman Jr.', 'Carlos Hyde', 'Robbie Gould', 'Jamaal Williams', 'Jerick Mckinnon', 'Younghoe Koo', 'Kendrick Bourne Poly', 'Chief David Njoku', 'DARWIN THOMPSON', 'Mike Boone']\n",
      "Sony Michel\t['Miles Sanders', 'Tom Brady', 'SWIFT7️⃣', 'Todd Gurley II', 'Christian McCaffrey', 'Nick Chubb', 'James White', 'Mecole Hardman Jr.', 'Teddy Bridgewater', 'Rex Burkhead', 'Auden Tate', 'Rodrigo Blankenship']\n",
      "James White\t['Tom Brady', 'Brandin Cooks', 'Sony Michel', 'DIGGS', 'Jonathan Taylor', 'Julian Edelman', 'Lamar Jackson', 'Jarvis Juice Landry', 'Jimmy Garoppolo', 'Teddy Bridgewater', 'Tyrod Taylor', 'Giovani Bernard', 'Frank Gore', 'Danny Amendola', 'Rex Burkhead', 'Brian Hill', 'Phillip Dorsett', 'Dion Lewis', 'Mohamed Sanu Sr.', 'Dare Ogunbowale', 'Wayne Gallman II']\n",
      "Jared Goff\t['Tom Brady', 'Brandin Cooks', 'Adam Thielen', 'Cooper Kupp', 'Robert Woods', 'Julian Edelman', 'Carson Wentz', 'Todd Gurley II', 'Tyler Higbee', 'Aaron Rodgers', 'Latavius Murray', 'Baker Mayfield', 'Darrell Henderson Jr', 'Derek Carr', 'Malcolm Brown', 'Gerald Everett', 'Mitchell Trubisky', 'Patrick Laird']\n",
      "Tevin Coleman\t['DeVante Parker', 'Todd Gurley II', 'Mohamed Sanu Sr.', 'Devonta Freeman']\n",
      "Mike Gesicki\t['George Kittle', 'James Conner', 'DeVante Parker', 'CALVIN RIDLEY', 'Miles Sanders', 'Chris Godwin', 'Saquon Barkley', 'Dallas Goedert', 'Kenny Stills', 'DaeSean Hamilton']\n",
      "Austin M Hooper\t['Matt Ryan', 'Christian McCaffrey', 'Mohamed Sanu Sr.', 'Devonta Freeman']\n",
      "Latavius Murray\t['DIGGS', 'Dalvin Cook', 'Adam Thielen', 'James Conner', 'Cooper Kupp', 'Jared Goff', 'Todd Gurley II', 'Breshad Perriman', 'kirkcousins8', 'Teddy Bridgewater', 'Derek Carr', 'Matt Prater', 'Jerick Mckinnon', 'Kyle Rudolph', 'Jalen Richard']\n",
      "Noah Fant\t['Jace', 'KJ HAMLER']\n",
      "Anthony Miller\t['DJ Chark', 'Allen Robinson II', 'AJ Brown', 'Baker Mayfield', 'Tarik Cohen', 'Darrell Henderson Jr', 'Jake Elliott', 'Mitchell Trubisky', 'Trey Burton']\n",
      "TJ Hockenson\t['George Kittle', 'Gardner Minshew', 'Eric Ebron']\n",
      "HJR III™💎\t['Courtland Sutton♠️', 'CeeDee Lamb', 'DIGGS', 'Ty Hill', 'Keenan Allen', 'Josh Jacobs', 'Cam akers', 'CALVIN RIDLEY', 'Jerry Jeudy⁴', 'Mecole Hardman Jr.', 'Irvin Smith Jr.', 'Derek Carr', 'Hunter Renfrow', 'Bryan Edwards', 'Tee Higgins⁵', 'Lynn Bowden Jr', 'Mohamed Sanu Sr.']\n",
      "Preston Williams\t['DeVante Parker', 'Michael Gallup', 'CALVIN RIDLEY', 'Auden Tate', 'Patrick Laird']\n",
      "Emmanuel Sanders\t['Matt Breida', 'Raheem Mostert', 'George Kittle', 'JuJu Smith-Schuster', 'Ty Hill', 'Keenan Allen', 'Deandre Hopkins', 'Phillip Lindsay', 'CALVIN RIDLEY', 'Ezekiel Elliott', 'Courtland Sutton♠️', 'Odell Beckham Jr', 'TY Hilton', 'Jerry Jeudy⁴', 'Golden Tate', 'Eric Ebron', 'Randall Cobb', 'Cole Beasley', 'Kenny Stills', 'Brandon McManus', 'Kendrick Bourne Poly', 'Trey Burton', 'DaeSean Hamilton', 'Eno Benjamin']\n",
      "Jonnu Smith\t['George Kittle', 'AJ Brown', 'TY Hilton', 'Corey Davis']\n",
      "Kerryon Johnson\t['SWIFT7️⃣', 'Ezekiel Elliott', 'Phillip Lindsay', 'Todd Gurley II', 'Darius Slayton', 'Golden Tate', 'Matt Prater', 'Peyton Barber', 'Daniel Carlson']\n",
      "Desean Jackson\t['Mike Evans', 'Larry Fitzgerald', 'LeSean Shady Mccoy']\n",
      "Jerry Jeudy⁴\t['Emmanuel Sanders', 'DIGGS', 'Tyler Lockett', 'Courtland Sutton♠️', 'Mike Evans', 'CeeDee Lamb', 'Jk dobbins', 'Josh Jacobs', 'Hollywood Brown', 'HJR III™💎', 'Kenyan Drake™', 'AJ Brown', 'SWIFT7️⃣', 'CALVIN RIDLEY', 'Devin Singletary', 'Lamar Jackson', 'Mecole Hardman Jr.', 'Teddy Bridgewater', 'Parris Campbell', 'Irvin Smith Jr.', 'OJ Howard ™', 'Dwayne Haskins, Jr', 'Tee Higgins⁵', 'Auden Tate', 'KJ HAMLER', 'Mohamed Sanu Sr.']\n",
      "Mecole Hardman Jr.\t['Darius Slayton', 'Mike Evans', 'Matt Breida', 'Tyler Lockett', 'Patrick Mahomes II', 'HJR III™💎', 'SWIFT7️⃣', 'Nick Chubb', 'Sony Michel', 'Jerry Jeudy⁴', 'Keal', 'King me', 'darrel williams', 'Dwayne Haskins, Jr', 'Tee Higgins⁵', 'LeSean Shady Mccoy', 'Demarcus Robinson', 'DARWIN THOMPSON', 'Lynn Bowden Jr', 'Mohamed Sanu Sr.', 'Rodrigo Blankenship']\n",
      "Baker Mayfield\t['Keenan Allen', 'George Kittle', 'Tom Brady', 'Phillip Lindsay', 'James Conner', 'Ty Hill', 'Ezekiel Elliott', 'Nick Chubb', 'Jarvis Juice Landry', 'Jared Goff', 'DJ Chark', 'Saquon Barkley', 'Mark Andrews 8⃣9️⃣', 'Anthony Miller', 'Josh Allen', 'Christian Kirk', 'Lamar Jackson', 'Hollywood Brown', 'Cooper Kupp', 'Patrick Mahomes II', 'CeeDee Lamb', '7⃣ Leonard Fournette', 'Christian McCaffrey', 'Jk dobbins', 'Kyler Murray', 'Joey Burrow', 'Allen Lazard', 'Carlos Hyde', 'Dede Westbrook', 'Kenny Stills', 'Danny Amendola', 'Rashaad Penny', 'Chief David Njoku', 'Willie Snead IV', 'Greg Ward, Jr.', 'DeAndre Washington', 'DaeSean Hamilton', 'Keke Coutee', 'Jakeem Grant']\n",
      "Dallas Goedert\t['Miles Sanders', 'Zach Ertz', 'Mike Gesicki', 'Carson Wentz', 'Jake Elliott', 'Alshon Jeffery', 'Trey Burton']\n",
      "Tarik Cohen\t['Christian Kirk', 'Hollywood Brown', 'Mike Evans', 'CALVIN RIDLEY', 'David Montgomery', 'Lamar Jackson', 'James Conner', 'Keenan Allen', 'Anthony Miller', 'Allen Robinson II', 'Todd Gurley II', 'Boston Scott', 'Eric Ebron', 'Chase Edmonds', 'Teddy Bridgewater', 'Nyheim Hines', 'Kendrick Bourne Poly', 'Mitchell Trubisky', 'Zachary Pascal', 'Jaylen Samuels', 'Mohamed Sanu Sr.', 'cordarrelle patterson', 'Trey Burton', 'IG MikeDavisRB']\n",
      "Ryan Tannehill\t['Carlos Hyde', 'Randy Bullock']\n",
      "Joey Burrow\t['Tyler Boyd', 'Jarvis Juice Landry', 'Patrick Mahomes II', 'Baker Mayfield', 'Jk dobbins', 'Terry McLaurin', 'Ezekiel Elliott', 'Parris Campbell', 'Nyheim Hines', 'Dwayne Haskins, Jr', 'Giovani Bernard', 'Booger', 'Tee Higgins⁵', 'Auden Tate', 'Lynn Bowden Jr']\n",
      "Golden Tate\t['Kenny Golladay', 'Josh Allen', 'Saquon Barkley', 'Keenan Allen', 'Zach Ertz', 'Kerryon Johnson', 'Carson Wentz', 'Marvin Jones Jr', 'Mark Ingram II', 'Ty Hill', 'Travis Kelce', 'Deandre Hopkins', 'Will Fuller V', 'Tyler Lockett', 'Julian Edelman', 'Emmanuel Sanders', 'Eric Ebron', 'Teddy Bridgewater', 'Randall Cobb', 'Matt Prater', 'Alshon Jeffery', 'Tyler Eifert', 'Brandon McManus', 'Chase Claypool']\n",
      "Christopher Herndon IV\t['Chief David Njoku']\n",
      "Alexander Mattison\t['DK Metcalf', 'kirkcousins8', 'Irvin Smith Jr.', 'DARWIN THOMPSON', 'Mike Boone']\n",
      "Gardner Minshew\t['TJ Hockenson', 'DK Metcalf', 'Darrell Henderson Jr', 'Hunter Renfrow']\n",
      "Blake Jarwin\t['Michael Gallup', 'Chris Carson', 'James Washington', 'Justice Hill', 'Trey Burton']\n",
      "Boston Scott\t['7⃣ Leonard Fournette', 'Tarik Cohen', 'Carson Wentz', 'Austin Ekeler', 'Mark Ingram II', 'Jake Elliott', 'Alshon Jeffery', 'Greg Ward, Jr.']\n",
      "Eric Ebron\t['Cooper Kupp', 'TJ Hockenson', 'Hunter Henry', 'Diontae Johnson', 'JuJu Smith-Schuster', 'BigBen7.com', 'Allen Robinson II', 'Evan Engram', 'Kenny Golladay', 'Patrick Mahomes II', 'Saquon Barkley', '\\ue10eDerrick Henry \\ue13d\\ue011', 'Emmanuel Sanders', 'Ty Hill', 'Marlon Mack', 'TY Hilton', 'George Kittle', 'Tarik Cohen', 'Mark Ingram II', 'James Conner', 'Tyler Lockett', 'Marvin Jones Jr', 'Zach Ertz', 'Christian McCaffrey', 'Deandre Hopkins', 'Travis Kelce', 'DIGGS', 'Davante Adams', 'Golden Tate', 'Odell Beckham Jr', 'Brandin Cooks', 'Jarvis Juice Landry', 'Keenan Allen', 'Todd Gurley II', 'Mike Evans', 'Jimmy Garoppolo', 'King me', 'Teddy Bridgewater', 'Parris Campbell', 'Derek Carr', 'Nyheim Hines', 'OJ Howard ™', 'James Washington', 'Mr SNELL YA LATER👋🏾', 'Matt Prater', 'Alshon Jeffery', 'Dwayne Haskins, Jr', 'Giovani Bernard', 'Frank Gore', 'Jimmy Graham', 'Chief David Njoku', 'Mitchell Trubisky', 'Zachary Pascal', 'Jaylen Samuels', 'Mohamed Sanu Sr.', 'Devonta Freeman', 'Trey Burton', 'IG MikeDavisRB']\n",
      "Allen Lazard\t['Michael Gallup', 'Phillip Lindsay', 'Courtland Sutton♠️', 'Baker Mayfield', 'Davante Adams', 'Patrick Mahomes II', 'David Montgomery', 'Christian McCaffrey', 'Christian Kirk', 'Mike Evans', 'Terry McLaurin', 'Mark Andrews 8⃣9️⃣', 'Dede Westbrook', 'Jace']\n",
      "Breshad Perriman\t['Chris Godwin', 'Mike Evans', 'Jarvis Juice Landry', 'DIGGS', 'Latavius Murray', 'Justin Tucker', 'Malcolm Brown', 'Phillip Dorsett']\n",
      ".\t['Jarvis Juice Landry', 'Raheem Mostert', 'Todd Gurley II', 'Teddy Bridgewater', 'Phillip Dorsett', 'Devonta Freeman', 'Trey Burton', 'IG MikeDavisRB']\n",
      "Jimmy Garoppolo\t['Tom Brady', 'George Kittle', 'James White', 'Eric Ebron', 'Julian Edelman', 'Danny Amendola']\n",
      "Keal\t['Diontae Johnson', 'AJ Brown', 'Mecole Hardman Jr.', 'Miles Sanders', 'Christian Kirk', 'Irvin Smith Jr.', 'Dwayne Haskins, Jr', 'KJ HAMLER', 'Jakobi Meyers', 'Mohamed Sanu Sr.', 'Eno Benjamin']\n",
      "Robby Anderson\t['Lamar Jackson', 'CALVIN RIDLEY', 'DIGGS', 'Teddy Bridgewater']\n",
      "kirkcousins8\t['Alexander Mattison', 'Latavius Murray', 'DIGGS', 'Adam Thielen', 'Chris Thompson', 'Irvin Smith Jr.', 'Kyle Rudolph', 'Mike Boone']\n",
      "Chase Edmonds\t['Kenyan Drake™', 'Austin Ekeler', 'Christian Kirk', 'Tarik Cohen', 'Saquon Barkley', 'Miles Sanders', 'LeSean Shady Mccoy']\n",
      "Curtis Samuel\t['Christian McCaffrey', 'Ezekiel Elliott', 'Terry McLaurin', 'Parris Campbell', 'Dwayne Haskins, Jr']\n",
      "Darrell Henderson Jr\t['Cam akers', 'Jared Goff', 'Jonathan Taylor', 'Gardner Minshew', 'Anthony Miller', 'Justice Hill']\n",
      "King me\t['Tyler Lockett', 'Mecole Hardman Jr.', 'Keenan Allen', 'Travis Kelce', 'Odell Beckham Jr', 'Robert Woods', 'Eric Ebron', 'Allen Robinson II', 'Mike Evans', 'Mark Ingram II', 'Deandre Hopkins', '\\ue10eDerrick Henry \\ue13d\\ue011', 'Teddy Bridgewater', 'Carlos Hyde', 'Alshon Jeffery', 'Kenny Stills', 'Tee Higgins⁵', 'Adam Humphries', 'Demarcus Robinson', 'Wayne Gallman II']\n",
      "Drew Lock\t['Josh Allen', 'Cam akers', 'Jk dobbins', 'Saquon Barkley', 'KJ HAMLER', 'Eno Benjamin']\n",
      "Teddy Bridgewater\t['Tarik Cohen', 'Robby Anderson', 'Christian McCaffrey', 'Sony Michel', 'Mark Ingram II', 'Jerry Jeudy⁴', 'Latavius Murray', 'Tyler Lockett', 'Dak Prescott', 'Lamar Jackson', 'Golden Tate', 'Allen Robinson II', 'Adam Thielen', 'DIGGS', 'Dalvin Cook', 'Jarvis Juice Landry', 'Robert Woods', 'TY Hilton', 'Mike Evans', 'Eric Ebron', 'Brandin Cooks', 'King me', 'Kenyan Drake™', 'James White', 'Odell Beckham Jr', 'Todd Gurley II', '.', 'DeVante Parker', 'Derek Carr', 'Tyrod Taylor', 'Alshon Jeffery', 'Dwayne Haskins, Jr', 'Jerick Mckinnon', 'Kyle Rudolph', 'Giovani Bernard', 'Phillip Dorsett', 'Willie Snead IV', 'Mohamed Sanu Sr.', 'Devonta Freeman', 'Flash', 'cordarrelle patterson', 'Trey Burton']\n",
      "Parris Campbell\t['Jonathan Taylor', 'Eric Ebron', 'TY Hilton', 'Jerry Jeudy⁴', 'Hollywood Brown', 'CeeDee Lamb', 'Jk dobbins', 'Curtis Samuel', 'Joey Burrow', 'Terry McLaurin', 'Ezekiel Elliott', 'Dwayne Haskins, Jr', 'KJ HAMLER', 'Zachary Pascal', 'DARWIN THOMPSON', 'Mohamed Sanu Sr.', 'Trey Burton']\n",
      "Chris Thompson\t['Phillip Lindsay', 'Dalvin Cook', 'Ezekiel Elliott', 'Cam akers', 'kirkcousins8', 'Dustin Hopkins', 'Devonta Freeman']\n",
      "Harrison Butker\t['Patrick Mahomes II', 'Travis Kelce', 'Ty Hill', 'Christian McCaffrey', 'Wil Lutz', 'Jake Elliott', 'Daniel Carlson', 'Rodrigo Blankenship']\n",
      "Justin Tucker\t['Mark Andrews 8⃣9️⃣', 'Lamar Jackson', 'Mark Ingram II', 'Breshad Perriman', 'Wil Lutz', 'Robbie Gould', 'Tyrod Taylor', 'Malcolm Brown', 'Mason Crosby', 'Nick Foles', 'Willie Snead IV', 'Nick Boyle']\n",
      "Joshua Kelley\t['Austin Ekeler', 'Devin Asiasi “2X” 🤲🏽']\n",
      "Ian Thomas\t[]\n",
      "Wil Lutz\t['Mark Ingram II', 'Justin Tucker', 'Harrison Butker', 'Aaron Jones', 'Matt Prater', 'Jake Elliott', 'Daniel Carlson', 'Dustin Hopkins', 'Willie Snead IV', 'Randy Bullock']\n",
      "Irvin Smith Jr.\t['DIGGS', 'kirkcousins8', 'Alexander Mattison', 'CeeDee Lamb', 'HJR III™💎', 'CALVIN RIDLEY', 'Jerry Jeudy⁴', 'Josh Jacobs', 'Keal', 'OJ Howard ™', 'Kyle Rudolph', 'Jace']\n",
      "Laviska Shenault Jr\t['Zack Moss ❌', 'Mason Crosby']\n",
      "Derek Carr\t['DIGGS', 'HJR III™💎', 'Josh Allen', 'Josh Jacobs', 'Keenan Allen', 'Jared Cook', 'Julian Edelman', 'Lamar Jackson', 'Tyler Lockett', 'Brandin Cooks', 'Teddy Bridgewater', 'Jared Goff', 'Zach Ertz', 'Eric Ebron', 'Todd Gurley II', 'TY Hilton', 'Travis Kelce', 'Jarvis Juice Landry', 'Odell Beckham Jr', 'Latavius Murray', 'Davante Adams', 'Hunter Renfrow', 'Jalen Richard', 'Daniel Carlson', 'Lynn Bowden Jr', 'DeAndre Washington', 'cordarrelle patterson']\n",
      "AJ “The Sauce” Dillon\t['Miles Sanders', '7⃣ Leonard Fournette', 'Jonathan Taylor']\n",
      "Nyheim Hines\t['Eric Ebron', 'TY Hilton', 'Tarik Cohen', 'Joey Burrow', 'Zachary Pascal', 'Jaylen Samuels', 'Jakobi Meyers', 'Trey Burton']\n",
      "Hunter Renfrow\t['HJR III™💎', 'Diontae Johnson', 'Gardner Minshew', 'Derek Carr', 'Deandre Hopkins', 'Bryan Edwards', 'Jalen Richard', 'Tee Higgins⁵', 'Adam Humphries', 'Daniel Carlson', 'Lynn Bowden Jr', 'Wayne Gallman II']\n",
      "OJ Howard ™\t['Patrick Mahomes II', 'George Kittle', 'Josh Jacobs', 'Lamar Jackson', 'Chris Godwin', 'Mike Evans', 'Josh Allen', 'Evan Engram', 'JuJu Smith-Schuster', 'Jerry Jeudy⁴', 'Irvin Smith Jr.', 'CALVIN RIDLEY', 'Christian McCaffrey', 'Eric Ebron', 'Mark Ingram II', 'Hunter Henry', 'Kenyan Drake™', 'Ezekiel Elliott', '\\ue10eDerrick Henry \\ue13d\\ue011', 'Gerald Everett', 'Chief David Njoku', 'Dare Ogunbowale']\n",
      "James Washington\t['Diontae Johnson', 'Eric Ebron', 'James Conner', 'JuJu Smith-Schuster', 'BigBen7.com', 'Blake Jarwin']\n",
      "Carlos Hyde\t['Miles Sanders', 'Ty Hill', 'Patrick Mahomes II', 'Baker Mayfield', 'Matt Breida', 'Ryan Tannehill', 'King me', 'Allen Robinson II', 'Ezekiel Elliott', 'darrel williams', 'Tyrod Taylor', 'Frank Gore', 'Chief David Njoku', 'Trey Burton', 'IG MikeDavisRB']\n",
      "Greg Olsen\t['Christian McCaffrey', 'Rob Gronkowski', 'Cameron 1 Newton', 'Will Dissly', 'Jimmy Graham']\n",
      "Larry Fitzgerald\t['Christian Kirk', 'Drew Brees', 'Desean Jackson']\n",
      "Corey Davis\t['AJ Brown', 'Jonnu Smith', '\\ue10eDerrick Henry \\ue13d\\ue011', 'James Conner', 'CALVIN RIDLEY', 'JuJu Smith-Schuster', 'Evan Engram', 'Patrick Mahomes II', 'Alshon Jeffery', 'Mohamed Sanu Sr.']\n",
      "Randall Cobb\t['Michael Gallup', 'Adam Thielen', 'Davante Adams', 'Jared Cook', 'Mike Evans', 'Julian Edelman', 'Emmanuel Sanders', 'Golden Tate', 'Odell Beckham Jr', 'Mark Ingram II', 'Aaron Rodgers', 'Aj Green', 'Kenny Stills', 'Mason Crosby', 'Danny Amendola', 'Mohamed Sanu Sr.']\n",
      "$.\t['Terry McLaurin', 'CeeDee Lamb', 'Dwayne Haskins, Jr', 'Jace']\n",
      "Robbie Gould\t['Matt Breida', 'George Kittle', 'Raheem Mostert', 'Odell Beckham Jr', 'Justin Tucker', 'Jake Elliott', 'Alshon Jeffery', 'Jerick Mckinnon', 'Mason Crosby', 'Tyler Eifert', 'Brandon McManus', 'Ryan Succop', 'Randy Bullock', 'Trey Burton']\n",
      "Bryan Edwards\t['HJR III™💎', 'Hunter Renfrow', 'Josh Jacobs', 'DK Metcalf', 'Hayden Hurst', 'Tee Higgins⁵']\n",
      "darrel williams\t['Carlos Hyde', 'Mecole Hardman Jr.', 'Travis Kelce', 'Patrick Mahomes II', 'DJ Chark', '7⃣ Leonard Fournette', 'Todd Gurley II', 'Russell Gage Jr.', 'LeSean Shady Mccoy', 'Demarcus Robinson', 'DARWIN THOMPSON']\n",
      "Mr SNELL YA LATER👋🏾\t['Eric Ebron', 'James Conner', 'Diontae Johnson', 'JuJu Smith-Schuster', 'Todd Gurley II', 'Miles Sanders', 'Jaylen Samuels', 'Lynn Bowden Jr']\n",
      "Darrynton Evans\t['\\ue10eDerrick Henry \\ue13d\\ue011', 'Darius Slayton', 'Raheem Mostert', 'Lynn Bowden Jr', 'Tyler Bass']\n",
      "Dawson Knox\t['George Kittle', 'Devin Singletary', 'Josh Allen', 'AJ Brown', 'DK Metcalf', 'Evan Engram', 'Frank Gore', 'Jace']\n",
      "Tyrod Taylor\t['Keenan Allen', 'Carlos Hyde', 'James White', 'Jarvis Juice Landry', 'DIGGS', 'Robert Woods', 'Odell Beckham Jr', 'Justin Tucker', 'Teddy Bridgewater', 'Chief David Njoku', 'LeSean Shady Mccoy', 'Willie Snead IV', 'Mohamed Sanu Sr.']\n",
      "Matt Prater\t['Wil Lutz', 'Latavius Murray', 'Kerryon Johnson', 'Golden Tate', 'Eric Ebron']\n",
      "Scott DesJarlais\t[]\n",
      "Malcolm Brown\t['Jared Goff', 'Tyler Lockett', 'Todd Gurley II', 'Breshad Perriman', 'Mike Evans', 'Justin Tucker', 'IG MikeDavisRB']\n",
      "Cole Beasley\t['Keenan Allen', 'Josh Allen', 'Courtland Sutton♠️', 'Christian McCaffrey', 'DIGGS', 'Michael Gallup', 'Ezekiel Elliott', 'Dak Prescott', 'Julian Edelman', 'Emmanuel Sanders']\n",
      "Jake Elliott\t['Boston Scott', 'Miles Sanders', 'Dallas Goedert', 'Zach Ertz', 'Carson Wentz', 'Harrison Butker', 'Wil Lutz', 'Robbie Gould', 'Anthony Miller', 'Alshon Jeffery', 'Daniel Carlson']\n",
      "Alshon Jeffery\t['Patrick Mahomes II', 'Miles Sanders', 'Dallas Goedert', 'Boston Scott', 'Eric Ebron', 'Golden Tate', 'Hayden Hurst', 'Jake Elliott', 'Todd Gurley II', 'Corey Davis', 'Carson Wentz', 'Keenan Allen', 'Teddy Bridgewater', 'Allen Robinson II', 'Deandre Hopkins', 'King me', 'Robbie Gould', 'Aj Green', 'Kenny Stills', 'Booger', 'Nick Foles', 'Greg Ward, Jr.', 'Flash', 'Trey Burton', 'Wayne Gallman II']\n",
      "Jamaal Williams\t['Matt Breida', 'Raheem Mostert', 'Patrick Mahomes II']\n",
      "Denzel Mims\t[]\n",
      "John Ross\t[]\n",
      "Dwayne Haskins, Jr\t['DeVante Parker', 'Keenan Allen', 'Deandre Hopkins', '$.', 'Patrick Mahomes II', 'Eric Ebron', 'Teddy Bridgewater', 'Curtis Samuel', 'Parris Campbell', 'Terry McLaurin', 'DIGGS', 'Jk dobbins', 'Ezekiel Elliott', 'Joey Burrow', 'Cam akers', 'Jerry Jeudy⁴', 'Keal', 'SWIFT7️⃣', 'Miles Sanders', 'Mecole Hardman Jr.', 'Saquon Barkley', 'Mohamed Sanu Sr.', 'DaeSean Hamilton', 'Eno Benjamin']\n",
      "Jerick Mckinnon\t['George Kittle', 'Raheem Mostert', 'Robbie Gould', 'Latavius Murray', 'Matt Breida', 'DIGGS', 'Adam Thielen', 'Teddy Bridgewater', 'Kyle Rudolph', 'Younghoe Koo', 'Kendrick Bourne Poly', 'cordarrelle patterson']\n",
      "Kyle Rudolph\t['George Kittle', 'Irvin Smith Jr.', 'Zach Ertz', 'kirkcousins8', 'Latavius Murray', 'Adam Thielen', 'Travis Kelce', 'Jerick Mckinnon', 'Teddy Bridgewater', 'Aaron Rodgers', 'cordarrelle patterson']\n",
      "Dede Westbrook\t['Michael Gallup', 'Allen Lazard', 'DJ Chark', 'JuJu Smith-Schuster', 'Hollywood Brown', 'George Kittle', 'CeeDee Lamb', 'Patrick Mahomes II', 'Kyler Murray', 'Baker Mayfield', 'Sterling  Shepard', 'Kenny Stills']\n",
      "Kenny Stills\t['Alshon Jeffery', 'George Kittle', 'Mike Gesicki', 'Kyler Murray', 'Tyler Lockett', 'Kenyan Drake™', 'CALVIN RIDLEY', 'Lamar Jackson', 'CeeDee Lamb', 'DIGGS', 'Dede Westbrook', 'Will Fuller V', 'Allen Robinson II', 'Baker Mayfield', '7⃣ Leonard Fournette', 'Mike Evans', 'DeVante Parker', 'Marvin Jones Jr', 'Jarvis Juice Landry', 'Emmanuel Sanders', 'TY Hilton', 'Mark Ingram II', 'King me', 'Randall Cobb', 'Deandre Hopkins', 'Sterling  Shepard', 'Odell Beckham Jr', 'Robert Woods', 'Giovani Bernard', 'Jimmy Graham', 'DaeSean Hamilton', 'Jakeem Grant', 'Patrick Laird']\n",
      "James Robinson\t[]\n",
      "Giovani Bernard\t['Joey Burrow', 'Kenny Stills', 'Tyler Boyd', 'Marvin Jones Jr', 'Eric Ebron', 'Teddy Bridgewater', 'James White', 'Tyler Eifert', 'Rex Burkhead', 'Phillip Dorsett', 'Mohamed Sanu Sr.', 'Dare Ogunbowale']\n",
      "Gerald Everett\t['OJ Howard ™', 'Kenyan Drake™', 'George Kittle', 'Brandin Cooks', 'Robert Woods', 'Tyler Higbee', 'Cooper Kupp', 'Jared Goff', 'Todd Gurley II', 'IG MikeDavisRB']\n",
      "Younghoe Koo\t['Matt Breida', 'Jerick Mckinnon', 'Daniel Carlson', 'Tyler Bass']\n",
      "Miles Boykin\t['Hollywood Brown', 'Tyler Eifert', 'Chase Claypool', 'Justice Hill', 'Willie Snead IV']\n",
      "Russell Gage Jr.\t['Hayden Hurst', 'DJ Chark', 'darrel williams', 'Brian Hill', 'Ito Smith', 'Mohamed Sanu Sr.']\n",
      "Will Dissly\t['Greg Olsen', 'George Kittle', 'Tyler Lockett', 'DK Metcalf', 'Rashaad Penny']\n",
      "Mason Crosby\t['Phillip Lindsay', 'Laviska Shenault Jr', 'Davante Adams', 'Aj Green', 'Justin Tucker', 'Robbie Gould', 'Aaron Rodgers', 'Randall Cobb', 'Jason Myers', 'Brandon McManus', 'Jace', 'Josh Lambo', 'Ryan Succop', 'Randy Bullock']\n",
      "Tyler Eifert\t['Miles Boykin', 'George Kittle', 'Travis Kelce', 'Robbie Gould', 'Golden Tate', 'Rob Gronkowski', 'Marvin Jones Jr', 'Giovani Bernard', 'Aj Green', 'Rex Burkhead', 'Mohamed Sanu Sr.']\n",
      "Jason Myers\t['Mason Crosby', 'Allen Robinson II']\n",
      "Frank Gore\t['Eric Ebron', 'Ezekiel Elliott', 'Raheem Mostert', 'Dawson Knox', 'Devin Singletary', 'George Kittle', 'Marlon Mack', 'Josh Allen', 'Carlos Hyde', 'James White', 'Kenyan Drake™', 'LeSean Shady Mccoy', 'Jakeem Grant']\n",
      "Danny Amendola\t['Travis Kelce', 'Tom Brady', 'Kenyan Drake™', 'Brandin Cooks', 'Randall Cobb', 'Baker Mayfield', 'Will Fuller V', 'Patrick Mahomes II', 'James White', 'Odell Beckham Jr', 'Jimmy Garoppolo', 'Rob Gronkowski', 'Julian Edelman', 'Brandon McManus', 'Dion Lewis', 'Flash']\n",
      "Jimmy Graham\t['Allen Robinson II', 'Davante Adams', 'Tyler Lockett', 'Odell Beckham Jr', 'Eric Ebron', 'Greg Olsen', 'Brandin Cooks', 'Kenny Stills', 'Aaron Rodgers', 'Mark Ingram II', 'Drew Brees', 'Jace', 'Chief David Njoku', 'cordarrelle patterson']\n",
      "Booger\t['Alshon Jeffery', 'Joey Burrow', 'Patrick Mahomes II', 'Mike Evans', 'Willie Snead IV', 'Trey Burton']\n",
      "Jalen Richard\t['Hunter Renfrow', 'Josh Jacobs', 'DJ Chark', 'Latavius Murray', 'Derek Carr', 'Ito Smith', 'Lynn Bowden Jr', 'DeAndre Washington', 'cordarrelle patterson', 'Eno Benjamin']\n",
      "Tee Higgins⁵\t['Keenan Allen', 'HJR III™💎', 'Joey Burrow', 'Tyler Boyd', 'Bryan Edwards', 'CeeDee Lamb', 'Lamar Jackson', 'SWIFT7️⃣', 'Jerry Jeudy⁴', 'Cam akers', 'Hunter Renfrow', 'King me', 'Deandre Hopkins', 'Mecole Hardman Jr.', 'Adam Humphries', 'Auden Tate', 'KJ HAMLER', 'Lynn Bowden Jr', 'Wayne Gallman II']\n",
      "Brandon McManus\t['Golden Tate', 'Danny Amendola', 'Mason Crosby', 'Robbie Gould', 'Emmanuel Sanders', 'Josh Lambo']\n",
      "Rex Burkhead\t['Sony Michel', 'Julian Edelman', 'James White', 'Brandin Cooks', 'Tyler Eifert', 'Giovani Bernard', 'Mohamed Sanu Sr.', 'Brett Maher']\n",
      "Chase Claypool\t['James Conner', 'Golden Tate', 'Miles Boykin', 'Will Fuller V']\n",
      "josh reynolds\t[]\n",
      "Gus Edwards\t['Phillip Dorsett']\n",
      "Andy Isabella\t[]\n",
      "Jace\t['Davante Adams', 'Allen Lazard', 'Jimmy Graham', 'Mason Crosby', 'Dawson Knox', 'Noah Fant', 'Irvin Smith Jr.', '$.', 'Justice Hill', 'DARWIN THOMPSON']\n",
      "Peyton Barber\t['Kenyan Drake™', 'Mike Evans', 'Kerryon Johnson', 'Daniel Carlson']\n",
      "Rashaad Penny\t['Will Dissly', 'Saquon Barkley', 'Nick Chubb', 'DK Metcalf', 'Tyler Lockett', 'Chris Carson', 'Ezekiel Elliott', 'Michael Gallup', 'Phillip Lindsay', 'Josh Allen', 'Baker Mayfield', 'Brian Hill', 'Jd Mckissic', 'IG MikeDavisRB']\n",
      "Brian Hill\t['Russell Gage Jr.', 'CALVIN RIDLEY', 'James White', 'Rashaad Penny', 'Josh Allen', 'Ito Smith']\n",
      "Kendrick Bourne Poly\t['Tarik Cohen', 'Odell Beckham Jr', 'Tyler Lockett', 'Emmanuel Sanders', 'Raheem Mostert', 'Jerick Mckinnon', 'George Kittle', 'Matt Breida', 'Cooper Kupp']\n",
      "Ito Smith\t['Russell Gage Jr.', 'Brian Hill', 'Phillip Lindsay', 'AJ Brown', 'Evan Engram', 'Jalen Richard', 'Justice Hill', 'DARWIN THOMPSON', 'Eno Benjamin']\n",
      "Chief David Njoku\t['Saquon Barkley', 'Patrick Mahomes II', 'Matt Breida', 'Eric Ebron', 'James Conner', 'Travis Kelce', 'George Kittle', 'Christopher Herndon IV', 'Carlos Hyde', 'Baker Mayfield', 'Tyrod Taylor', 'Jarvis Juice Landry', 'Christian McCaffrey', 'Jimmy Graham', 'OJ Howard ™', 'Evan Engram']\n",
      "Mitchell Trubisky\t['Anthony Miller', 'George Kittle', 'Allen Robinson II', 'Tarik Cohen', 'Patrick Mahomes II', 'Zach Ertz', 'Jared Goff', 'Cooper Kupp', 'Eric Ebron', 'Kareemhunt3⃣', 'James Conner', 'Trey Burton', 'IG MikeDavisRB']\n",
      "Adam Humphries\t['Chris Godwin', 'Tee Higgins⁵', 'Mike Evans', 'Hunter Renfrow', 'Deandre Hopkins', 'King me', 'Wayne Gallman II']\n",
      "Auden Tate\t['Joey Burrow', 'Tee Higgins⁵', 'Tyler Boyd', 'Sony Michel', 'CALVIN RIDLEY', 'Diontae Johnson', 'Jerry Jeudy⁴', 'Dalvin Cook', 'Preston Williams', 'Saquon Barkley', 'Tyler Bass']\n",
      "Josh Lambo\t['Mike Evans', 'Mason Crosby', 'Brandon McManus']\n",
      "LeSean Shady Mccoy\t['Mike Evans', 'Mecole Hardman Jr.', 'darrel williams', 'Frank Gore', 'Chase Edmonds', 'Patrick Mahomes II', 'Josh Allen', 'Keenan Allen', 'Todd Gurley II', 'Christian McCaffrey', 'Tyrod Taylor', 'James Conner', 'Desean Jackson', 'DARWIN THOMPSON', 'Dion Lewis']\n",
      "KJ HAMLER\t['Noah Fant', 'Phillip Lindsay', 'Drew Lock', 'CeeDee Lamb', 'Terry McLaurin', 'Jk dobbins', 'Parris Campbell', 'Keal', 'Ty Hill', 'Chris Godwin', 'Saquon Barkley', 'Tee Higgins⁵', 'SWIFT7️⃣', 'Cam akers', 'Jerry Jeudy⁴', 'Keenan Allen', 'Miles Sanders', 'DIGGS', 'Lynn Bowden Jr', 'DaeSean Hamilton']\n",
      "Nick Foles\t['Alshon Jeffery', 'Carson Wentz', 'Jared Cook', 'Todd Gurley II', 'Justin Tucker', 'Zach Ertz', 'Trey Burton']\n",
      "Zachary Pascal\t['Parris Campbell', 'Chris Godwin', 'Nyheim Hines', 'Eric Ebron', 'Marlon Mack', 'Tarik Cohen']\n",
      "Antonio Gandy-Golden\t[]\n",
      "Demarcus Robinson\t['darrel williams', 'King me', 'Mecole Hardman Jr.', 'Patrick Mahomes II', 'Kenyan Drake™', 'Travis Kelce', '\\ue10eDerrick Henry \\ue13d\\ue011', 'Trey Burton']\n",
      "Tua. T 🇦🇸\t[]\n",
      "Justice Hill\t['Mark Andrews 8⃣9️⃣', 'Jk dobbins', 'Mark Ingram II', 'Hollywood Brown', 'Miles Boykin', 'Tyler Lockett', 'Darrell Henderson Jr', 'Devin Singletary', 'Ito Smith', 'David Montgomery', 'Chris Carson', 'Blake Jarwin', 'Josh Jacobs', 'Jace', 'DARWIN THOMPSON']\n",
      "Phillip Dorsett\t['Breshad Perriman', 'TY Hilton', 'DeVante Parker', 'Gus Edwards', 'Teddy Bridgewater', '.', 'Giovani Bernard', 'James White', 'IG MikeDavisRB']\n",
      "Daniel Carlson\t['Josh Jacobs', 'Hunter Renfrow', 'Darius Slayton', 'Derek Carr', 'Wil Lutz', 'Younghoe Koo', 'Jake Elliott', 'Kerryon Johnson', 'Harrison Butker', 'Peyton Barber']\n",
      "DARWIN THOMPSON\t['Mecole Hardman Jr.', 'LeSean Shady Mccoy', 'darrel williams', 'Patrick Mahomes II', 'Ty Hill', 'Matt Breida', 'Travis Kelce', 'Tyler Lockett', 'Parris Campbell', 'DK Metcalf', 'Alexander Mattison', 'Ito Smith', 'Jace', 'Justice Hill']\n",
      "Darren Fells\t[]\n",
      "Royce Freeman\t['Phillip Lindsay', 'Courtland Sutton♠️']\n",
      "Wayne County\t[]\n",
      "Dion Lewis\t['Danny Amendola', 'Julian Edelman', 'Rob Gronkowski', 'James White', 'James Conner', 'LeSean Shady Mccoy', 'Willie Snead IV']\n",
      "Dustin Hopkins\t['Wil Lutz', 'Robert Woods', 'Chris Thompson', 'Devonta Freeman']\n",
      "Jaylen Samuels\t['Eric Ebron', 'Mr SNELL YA LATER👋🏾', 'BigBen7.com', 'James Conner', 'Michael Gallup', 'Tarik Cohen', 'Nyheim Hines', 'Jakobi Meyers']\n",
      "Ryan Succop\t['Robbie Gould', 'Travis Kelce', 'Mason Crosby']\n",
      "Willie Snead IV\t['Miles Boykin', 'Jk dobbins', 'Mark Andrews 8⃣9️⃣', 'Booger', 'Hollywood Brown', 'Justin Tucker', 'Mike Evans', 'Hayden Hurst', 'CALVIN RIDLEY', 'Lamar Jackson', 'Baker Mayfield', 'Wil Lutz', 'Tyler Lockett', 'Dion Lewis', 'Jarvis Juice Landry', 'Mark Ingram II', 'DeVante Parker', 'Brandin Cooks', 'Teddy Bridgewater', 'Odell Beckham Jr', 'Robert Woods', 'Tyrod Taylor', 'Devin Duvernay', 'Mohamed Sanu Sr.', 'Nick Boyle']\n",
      "Jakobi Meyers\t['Keal', 'Jaylen Samuels', 'Nyheim Hines', 'Mohamed Sanu Sr.']\n",
      "Devin Duvernay\t['Jk dobbins', 'Willie Snead IV', 'Lamar Jackson', 'Miles Sanders', 'Kyler Murray', 'Eno Benjamin']\n",
      "Mike Boone\t['Alexander Mattison', 'Matt Breida', 'kirkcousins8', 'Phillip Lindsay', 'Michael Gallup']\n",
      "Jd Mckissic\t['Tyler Lockett', 'Rashaad Penny', 'Chris Carson', 'Mohamed Sanu Sr.']\n",
      "David Moore\t[]\n",
      "Randy Bullock\t['BigBen7.com', 'Wil Lutz', 'Tyler Boyd', 'Mike Evans', 'Mason Crosby', 'Robbie Gould', 'Ryan Tannehill']\n",
      "Greg Ward, Jr.\t['Boston Scott', 'Alshon Jeffery', 'Baker Mayfield', 'Patrick Mahomes II', 'Keke Coutee']\n",
      "Lynn Bowden Jr\t['Jalen Richard', 'KJ HAMLER', 'Darrynton Evans', 'Hunter Renfrow', 'Derek Carr', 'Josh Jacobs', 'Tee Higgins⁵', 'HJR III™💎', 'Mecole Hardman Jr.', 'Jk dobbins', 'Lamar Jackson', 'Joey Burrow', 'CeeDee Lamb', 'Mr SNELL YA LATER👋🏾']\n",
      "Mohamed Sanu Sr.\t['Tarik Cohen', 'Parris Campbell', 'Mecole Hardman Jr.', 'James White', 'Keal', 'Jakobi Meyers', 'Julian Edelman', 'CeeDee Lamb', 'Patrick Mahomes II', 'HJR III™💎', 'Russell Gage Jr.', 'James Conner', 'Deandre Hopkins', 'Davante Adams', 'Willie Snead IV', 'Michael Gallup', 'Todd Gurley II', 'Saquon Barkley', 'CALVIN RIDLEY', 'Adam Thielen', 'Corey Davis', 'Eric Ebron', 'Teddy Bridgewater', 'Lamar Jackson', 'Jerry Jeudy⁴', 'Tyrod Taylor', 'Jd Mckissic', 'Austin M Hooper', 'Tevin Coleman', 'Matt Ryan', 'Keenan Allen', 'Mike Evans', 'Travis Kelce', 'DIGGS', 'Jarvis Juice Landry', 'Odell Beckham Jr', 'TY Hilton', 'Dwayne Haskins, Jr', 'Rex Burkhead', 'Tyler Eifert', 'Giovani Bernard', 'Marvin Jones Jr', 'Aj Green', 'Randall Cobb', 'Devonta Freeman']\n",
      "Scott Miller\t[]\n",
      "Devonta Freeman\t['Josh Jacobs', 'CALVIN RIDLEY', 'Austin M Hooper', 'Mohamed Sanu Sr.', 'Odell Beckham Jr', 'Todd Gurley II', 'Eric Ebron', 'Tevin Coleman', '.', 'Teddy Bridgewater', 'Dustin Hopkins', 'Dalvin Cook', 'Matt Ryan', 'Chris Thompson']\n",
      "DeAndre Washington\t['Baker Mayfield', 'Jalen Richard', 'Derek Carr', 'Tyler Higbee', 'Patrick Mahomes II', 'Jakeem Grant']\n",
      "Steven Hauschka\t[]\n",
      "Flash\t['Tyler Lockett', 'DK Metcalf', 'Tom Brady', 'Todd Gurley II', 'Danny Amendola', 'Odell Beckham Jr', 'Teddy Bridgewater', 'Ezekiel Elliott', 'Keenan Allen', 'Alshon Jeffery']\n",
      "Brett Maher\t['Rex Burkhead']\n",
      "cordarrelle patterson\t['Jimmy Graham', 'Tarik Cohen', 'Jerick Mckinnon', 'Jalen Richard', 'Derek Carr', 'DIGGS', 'Teddy Bridgewater', 'Kyle Rudolph', 'Adam Thielen']\n",
      "Dare Ogunbowale\t['Giovani Bernard', 'OJ Howard ™', 'Chris Godwin', 'Mike Evans', 'Jonathan Taylor', 'James White']\n",
      "Ted Ginn Jr\t['Cameron 1 Newton', 'Ezekiel Elliott']\n",
      "Devin Asiasi “2X” 🤲🏽\t['Joshua Kelley', 'AJ Brown']\n",
      "Rodrigo Blankenship\t['Harrison Butker', 'Mecole Hardman Jr.', 'Nick Chubb', 'Sony Michel']\n",
      "Trey Burton\t['Blake Jarwin', 'Nyheim Hines', 'Parris Campbell', 'Hunter Henry', 'Patrick Mahomes II', 'Dallas Goedert', 'Robbie Gould', 'Anthony Miller', 'Travis Kelce', 'Tarik Cohen', 'Mitchell Trubisky', 'Hayden Hurst', 'Emmanuel Sanders', 'Carson Wentz', 'Nick Foles', 'Zach Ertz', 'Alshon Jeffery', 'Eric Ebron', 'Demarcus Robinson', 'Carlos Hyde', 'Allen Robinson II', 'Teddy Bridgewater', 'Booger', '.', 'Mike Evans', 'Odell Beckham Jr']\n",
      "Wayne Gallman II\t['Alshon Jeffery', 'Saquon Barkley', 'James White', 'JuJu Smith-Schuster', 'Evan Engram', 'Mark Ingram II', 'Dalvin Cook', 'Christian McCaffrey', 'Tee Higgins⁵', 'James Conner', 'Hunter Renfrow', 'Todd Gurley II', 'Mike Evans', 'Adam Humphries', 'Odell Beckham Jr', 'Deandre Hopkins', 'King me']\n",
      "Tyler Bass\t['Darrynton Evans', 'Younghoe Koo', 'Auden Tate']\n",
      "DaeSean Hamilton\t['Phillip Lindsay', 'Emmanuel Sanders', 'Courtland Sutton♠️', 'Baker Mayfield', 'KJ HAMLER', 'Chris Godwin', 'Dwayne Haskins, Jr', 'Miles Sanders', 'Saquon Barkley', 'Mike Gesicki', 'Allen Robinson II', 'Kenny Stills']\n",
      "Nick Boyle\t['Mark Andrews 8⃣9️⃣', 'Willie Snead IV', 'Hollywood Brown', 'Lamar Jackson', 'Justin Tucker']\n",
      "Keke Coutee\t['Will Fuller V', 'Deandre Hopkins', 'Michael Gallup', 'Baker Mayfield', 'Patrick Mahomes II', 'Greg Ward, Jr.', 'Jakeem Grant']\n",
      "Eno Benjamin\t['Emmanuel Sanders', 'Drew Lock', 'Jk dobbins', 'Jalen Richard', 'Keal', 'Ito Smith', 'SWIFT7️⃣', 'Dwayne Haskins, Jr', 'CeeDee Lamb', 'Patrick Mahomes II', 'Cam akers', 'Devin Duvernay']\n",
      "IG MikeDavisRB\t['Raheem Mostert', 'Tarik Cohen', 'Mitchell Trubisky', 'David Montgomery', 'Hayden Hurst', 'Rashaad Penny', 'Gerald Everett', 'Tyler Lockett', 'Chris Carson', 'DIGGS', 'Eric Ebron', 'James Conner', 'Carlos Hyde', 'Phillip Dorsett', '.', 'Malcolm Brown', 'Todd Gurley II', 'Kenyan Drake™']\n",
      "Jakeem Grant\t['Ty Hill', 'Phillip Lindsay', 'Frank Gore', 'Keke Coutee', 'DeVante Parker', 'Jarvis Juice Landry', 'Kenny Stills', 'Kenyan Drake™', 'Baker Mayfield', 'Patrick Mahomes II', 'DeAndre Washington']\n",
      "Patrick Laird\t['Kenny Stills', 'DeVante Parker', 'Preston Williams', 'Jared Goff']\n"
     ]
    }
   ],
   "source": [
    "# temp code. Might need later\n",
    "for n, nbrsdict in g.adjacency():\n",
    "    print(n, end=\"\\t\")\n",
    "    print(list(nbrsdict.keys()))\n",
    "    # for nbr, edge in nbrsdict.items():\n",
    "    #     print(n, nbr)"
   ],
   "metadata": {
    "collapsed": false,
    "pycharm": {
     "name": "#%%\n"
    }
   }
  },
  {
   "cell_type": "code",
   "execution_count": 185,
   "outputs": [
    {
     "data": {
      "text/plain": "257"
     },
     "execution_count": 185,
     "metadata": {},
     "output_type": "execute_result"
    }
   ],
   "source": [
    "len(g.nodes)\n"
   ],
   "metadata": {
    "collapsed": false,
    "pycharm": {
     "name": "#%%\n"
    }
   }
  }
 ],
 "metadata": {
  "kernelspec": {
   "display_name": "Python 3.7.4 64-bit ('ml': conda)",
   "language": "python",
   "name": "python37464bitmlconda7fa6c6a5e21e48fa992d614fd6726ac8"
  },
  "language_info": {
   "codemirror_mode": {
    "name": "ipython",
    "version": 3
   },
   "file_extension": ".py",
   "mimetype": "text/x-python",
   "name": "python",
   "nbconvert_exporter": "python",
   "pygments_lexer": "ipython3",
   "version": "3.7.8"
  },
  "varInspector": {
   "cols": {
    "lenName": 16,
    "lenType": 16,
    "lenVar": 40
   },
   "kernels_config": {
    "python": {
     "delete_cmd_postfix": "",
     "delete_cmd_prefix": "del ",
     "library": "var_list.py",
     "varRefreshCmd": "print(var_dic_list())"
    },
    "r": {
     "delete_cmd_postfix": ") ",
     "delete_cmd_prefix": "rm(",
     "library": "var_list.r",
     "varRefreshCmd": "cat(var_dic_list()) "
    }
   },
   "types_to_exclude": [
    "module",
    "function",
    "builtin_function_or_method",
    "instance",
    "_Feature"
   ],
   "window_display": false
  }
 },
 "nbformat": 4,
 "nbformat_minor": 4
}