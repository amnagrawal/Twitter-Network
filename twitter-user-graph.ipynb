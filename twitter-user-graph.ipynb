{
 "cells": [
  {
   "cell_type": "code",
   "execution_count": 1,
   "metadata": {},
   "outputs": [],
   "source": [
    "import twitter\n",
    "import networkx as nx\n",
    "import matplotlib.pyplot as plt\n",
    "import pickle\n",
    "import collections"
   ]
  },
  {
   "cell_type": "code",
   "execution_count": 2,
   "metadata": {},
   "outputs": [],
   "source": [
    "api = twitter.Api(consumer_key=\"vSsCY8ZdyOKqI2nBVpLElBKDD\",\n",
    "                  consumer_secret=\"xHWGtoCllCtc7lb5GkCAhJVU4q7TGN8TBtZZOEFqK1Rez8LQ1t\",\n",
    "                  access_token_key=\"806043476831809537-F2GoVNl8ngMXD0z0fdsvCSJXxolZhiY\",\n",
    "                  access_token_secret=\"aupIcZVfqSx9xyWYaa2Kyu7PJmfnpdah8G0Urgjwtz1U1\"                  \n",
    "                  )\n",
    "api.sleep_on_rate_limit = True"
   ]
  },
  {
   "cell_type": "code",
   "execution_count": 3,
   "metadata": {},
   "outputs": [],
   "source": [
    "def getUserFromName(name, api):\n",
    "    user_list = api.GetUsersSearch(term=name, page=1, count=1)\n",
    "    if user_list:\n",
    "        user = user_list[0]\n",
    "        if user.verified:\n",
    "            return user\n",
    "    return None"
   ]
  },
  {
   "cell_type": "code",
   "execution_count": 4,
   "metadata": {},
   "outputs": [
    {
     "data": {
      "text/plain": [
       "User(ID=2917808716, ScreenName=fundacionmessi)"
      ]
     },
     "execution_count": 4,
     "metadata": {},
     "output_type": "execute_result"
    }
   ],
   "source": [
    "getUserFromName('Lionel Messi', api)"
   ]
  },
  {
   "cell_type": "code",
   "execution_count": 4,
   "metadata": {},
   "outputs": [],
   "source": [
    "queries = [\"Luis Suarez\", \"Sergio Busquets\", \"Iker Casillas\", \"Malena Ortiz Cruz\", \"Diego Lopez\",\n",
    "           \"Isabel Garzo\", \"Marc ter Stegan\", \"Samuel Umtiti\", \"Andres Iniesta\", \"Arturo Vidal\",\n",
    "           \"Jordi Alba\", \"Sergi Roberto\", \"Rafa Nadal\", \"Roger Federer\", \"Gerard Pique\",\n",
    "           \"Antoine Griezmann\", \"marie portolano\"]"
   ]
  },
  {
   "cell_type": "code",
   "execution_count": 52,
   "metadata": {
    "pycharm": {
     "name": "#%%\n"
    }
   },
   "outputs": [],
   "source": [
    "V = []\n",
    "# For now saving all kinds of graphs... may need only one later\n",
    "g = nx.Graph()\n",
    "dg = nx.DiGraph()\n",
    "id_to_name = {}\n",
    "for i in range(len(queries)):\n",
    "    user = getUserFromName(queries[i], api)\n",
    "    if user:\n",
    "        # row = [repr(user.id), user.name, user.screen_name]\n",
    "        id_to_name[user.id] = user.name\n",
    "        g.add_node(user.name, id=repr(user.id), screen_name=user.screen_name)\n",
    "        dg.add_node(user.name, id=repr(user.id), screen_name=user.screen_name)"
   ]
  },
  {
   "cell_type": "code",
   "execution_count": 58,
   "metadata": {
    "pycharm": {
     "name": "#%%\n"
    }
   },
   "outputs": [
    {
     "name": "stdout",
     "output_type": "stream",
     "text": [
      "Luis Suarez is following Sergio Busquets\n",
      "Luis Suarez is following Iker Casillas\n",
      "Luis Suarez is following Sergi Roberto\n",
      "Luis Suarez is following Jordi Alba\n",
      "Luis Suarez is following Gerard Piqué\n",
      "Luis Suarez is following Andrés Iniesta\n",
      "Sergio Busquets is following Samuel Umtiti\n",
      "Sergio Busquets is following Arturo Vidal\n",
      "Sergio Busquets is following Iker Casillas\n",
      "Sergio Busquets is following Jordi Alba\n",
      "Sergio Busquets is following Sergi Roberto\n",
      "Sergio Busquets is following Luis Suarez\n",
      "Sergio Busquets is following Andrés Iniesta\n",
      "Sergio Busquets is following Gerard Piqué\n",
      "Iker Casillas is following Malena Ortiz Cruz\n",
      "Iker Casillas is following Isabel Garzo\n",
      "Iker Casillas is following Sergio Busquets\n",
      "Iker Casillas is following Luis Suarez\n",
      "Iker Casillas is following Sergi Roberto\n",
      "Iker Casillas is following Gerard Piqué\n",
      "Iker Casillas is following Jordi Alba\n",
      "Iker Casillas is following Andrés Iniesta\n",
      "Iker Casillas is following Rafa Nadal\n",
      "Malena Ortiz Cruz is following Roger Federer\n",
      "Malena Ortiz Cruz is following Antoine Griezmann\n",
      "Malena Ortiz Cruz is following Iker Casillas\n",
      "Malena Ortiz Cruz is following Sergi Roberto\n",
      "Malena Ortiz Cruz is following Rafa Nadal\n",
      "Malena Ortiz Cruz is following Gerard Piqué\n",
      "Malena Ortiz Cruz is following Andrés Iniesta\n",
      "Isabel Garzo is following Iker Casillas\n",
      "Isabel Garzo is following Roger Federer\n",
      "Isabel Garzo is following Rafa Nadal\n",
      "Samuel Umtiti is following Sergio Busquets\n",
      "Samuel Umtiti is following Sergi Roberto\n",
      "Samuel Umtiti is following Luis Suarez\n",
      "Samuel Umtiti is following Gerard Piqué\n",
      "Samuel Umtiti is following Andrés Iniesta\n",
      "Samuel Umtiti is following Antoine Griezmann\n",
      "Samuel Umtiti is following marie portolano\n",
      "Arturo Vidal is following Luis Suarez\n",
      "Arturo Vidal is following Gerard Piqué\n",
      "Jordi Alba is following Luis Suarez\n",
      "Jordi Alba is following Iker Casillas\n",
      "Jordi Alba is following Rafa Nadal\n",
      "Jordi Alba is following Andrés Iniesta\n",
      "Jordi Alba is following Gerard Piqué\n",
      "Jordi Alba is following Sergi Roberto\n",
      "Sergi Roberto is following Sergio Busquets\n",
      "Sergi Roberto is following Antoine Griezmann\n",
      "Sergi Roberto is following Samuel Umtiti\n",
      "Sergi Roberto is following Iker Casillas\n",
      "Sergi Roberto is following Luis Suarez\n",
      "Sergi Roberto is following Jordi Alba\n",
      "Sergi Roberto is following Roger Federer\n",
      "Sergi Roberto is following Rafa Nadal\n",
      "Sergi Roberto is following Andrés Iniesta\n",
      "Sergi Roberto is following Gerard Piqué\n",
      "Rafa Nadal is following Sergio Busquets\n",
      "Rafa Nadal is following Roger Federer\n",
      "Rafa Nadal is following Andrés Iniesta\n",
      "Roger Federer is following Rafa Nadal\n",
      "marie portolano is following Samuel Umtiti\n",
      "marie portolano is following Antoine Griezmann\n",
      "marie portolano is following Luis Suarez\n"
     ]
    }
   ],
   "source": [
    "for query_name in queries:\n",
    "\n",
    "    if not g.has_node(query_name):\n",
    "        continue\n",
    "\n",
    "    query_id = g.nodes[query_name]['id']\n",
    "    friendIDs = api.GetFriendIDs(query_id)\n",
    "    for friendID in friendIDs:\n",
    "        if friendID in id_to_name.keys():\n",
    "            friend_name = id_to_name[friendID]\n",
    "            print(f'{query_name} is following {friend_name}')\n",
    "            dg.add_edge(query_name, friend_name)\n",
    "\n",
    "            # 2 nodes in an undirected graph are connected if they both follow each other\n",
    "            if dg.has_edge(friend_name, query_name):\n",
    "                g.add_edge(friend_name, query_name)"
   ]
  },
  {
   "cell_type": "code",
   "execution_count": 64,
   "metadata": {},
   "outputs": [
    {
     "data": {
      "image/png": "[encoded data removed]",
      "text/plain": [
       "<Figure size 432x288 with 1 Axes>"
      ]
     },
     "metadata": {},
     "output_type": "display_data"
    }
   ],
   "source": [
    "plt.plot()\n",
    "nx.draw(dg, with_labels=True)\n",
    "plt.show()"
   ]
  },
  {
   "cell_type": "code",
   "execution_count": 80,
   "metadata": {},
   "outputs": [
    {
     "data": {
      "text/plain": "[{'Iker Casillas',\n  'Isabel Garzo',\n  'Jordi Alba',\n  'Luis Suarez',\n  'Malena Ortiz Cruz',\n  'Samuel Umtiti',\n  'Sergi Roberto',\n  'Sergio Busquets',\n  'marie portolano'},\n {'Andrés Iniesta'},\n {'Arturo Vidal'},\n {'Rafa Nadal', 'Roger Federer'},\n {'Gerard Piqué'},\n {'Antoine Griezmann'}]"
     },
     "execution_count": 80,
     "metadata": {},
     "output_type": "execute_result"
    }
   ],
   "source": [
    "list(nx.connected_components(g))"
   ]
  },
  {
   "cell_type": "code",
   "execution_count": 10,
   "metadata": {},
   "outputs": [
    {
     "data": {
      "text/plain": [
       "100"
      ]
     },
     "execution_count": 10,
     "metadata": {},
     "output_type": "execute_result"
    }
   ],
   "source": [
    "# api.GetSearch(raw_query=\"screen_name=fundacionmessi\")\n",
    "len(api.GetFriends(2917808716))"
   ]
  },
  {
   "cell_type": "code",
   "execution_count": 36,
   "metadata": {
    "collapsed": true
   },
   "outputs": [
    {
     "data": {
      "text/plain": [
       "95257207"
      ]
     },
     "execution_count": 36,
     "metadata": {},
     "output_type": "execute_result"
    }
   ],
   "source": [
    "api.GetFriendIDs(2917808716)[0]"
   ]
  },
  {
   "cell_type": "code",
   "execution_count": 71,
   "metadata": {
    "pycharm": {
     "name": "#%%\n"
    }
   },
   "outputs": [],
   "source": [
    "with open('./graph', 'wb') as f:\n",
    "    pickle.dump(g, f)\n",
    "\n",
    "with open('./directed_graph', 'wb') as f:\n",
    "    pickle.dump(dg, f)"
   ]
  },
  {
   "cell_type": "code",
   "execution_count": 4,
   "metadata": {
    "pycharm": {
     "name": "#%%\n"
    }
   },
   "outputs": [],
   "source": [
    "with open('./graph', 'rb') as f:\n",
    "    new_g = pickle.load(f)\n",
    "\n",
    "with open('./directed_graph', 'rb') as f:\n",
    "    new_dg = pickle.load(f)"
   ]
  },
  {
   "cell_type": "code",
   "execution_count": 78,
   "metadata": {
    "pycharm": {
     "name": "#%%\n"
    }
   },
   "outputs": [],
   "source": [
    "%matplotlib qt\n",
    "plt.plot()\n",
    "nx.draw(new_g, with_labels=True)\n",
    "plt.show()"
   ]
  },
  {
   "cell_type": "code",
   "execution_count": null,
   "metadata": {
    "pycharm": {
     "name": "#%%\n"
    }
   },
   "outputs": [],
   "source": []
  }
 ],
 "metadata": {
  "kernelspec": {
   "display_name": "Python 3.7.4 64-bit ('ml': conda)",
   "language": "python",
   "name": "python37464bitmlconda7fa6c6a5e21e48fa992d614fd6726ac8"
  },
  "language_info": {
   "codemirror_mode": {
    "name": "ipython",
    "version": 3
   },
   "file_extension": ".py",
   "mimetype": "text/x-python",
   "name": "python",
   "nbconvert_exporter": "python",
   "pygments_lexer": "ipython3",
   "version": "3.7.8"
  },
  "varInspector": {
   "cols": {
    "lenName": 16,
    "lenType": 16,
    "lenVar": 40
   },
   "kernels_config": {
    "python": {
     "delete_cmd_postfix": "",
     "delete_cmd_prefix": "del ",
     "library": "var_list.py",
     "varRefreshCmd": "print(var_dic_list())"
    },
    "r": {
     "delete_cmd_postfix": ") ",
     "delete_cmd_prefix": "rm(",
     "library": "var_list.r",
     "varRefreshCmd": "cat(var_dic_list()) "
    }
   },
   "types_to_exclude": [
    "module",
    "function",
    "builtin_function_or_method",
    "instance",
    "_Feature"
   ],
   "window_display": false
  }
 },
 "nbformat": 4,
 "nbformat_minor": 4
}